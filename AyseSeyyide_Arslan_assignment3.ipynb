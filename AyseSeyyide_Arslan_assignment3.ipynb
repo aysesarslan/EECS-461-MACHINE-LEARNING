{
 "cells": [
  {
   "cell_type": "markdown",
   "metadata": {},
   "source": [
    "**Notes**:\n",
    "* Feel free to add cells as you need them.\n",
    "* Keep your code clean and readable.\n",
    "* Comments included in this document are just to summarize the question. For full details make sure you read the assignment pdf thoroughly.\n",
    "* Don't forget to rename the file when you finish"
   ]
  },
  {
   "cell_type": "markdown",
   "metadata": {},
   "source": [
    "# EECS 461/ECE 523  | Assignment 3"
   ]
  },
  {
   "cell_type": "code",
   "execution_count": 1,
   "metadata": {
    "ExecuteTime": {
     "end_time": "2019-11-22T21:10:19.201922Z",
     "start_time": "2019-11-22T21:10:17.698759Z"
    }
   },
   "outputs": [],
   "source": [
    "from __future__ import division, print_function, unicode_literals\n",
    "\n",
    "import matplotlib.pyplot as plt\n",
    "# Common imports\n",
    "import pandas as pd\n",
    "import numpy as np\n",
    "import os\n",
    "\n",
    "# to make this notebook's output stable across runs\n",
    "np.random.seed(42)\n",
    "\n",
    "# To plot pretty figures\n",
    "%matplotlib inline\n",
    "import matplotlib as mpl\n",
    "import matplotlib.pyplot as plt\n",
    "mpl.rc('axes', labelsize=14)\n",
    "mpl.rc('xtick', labelsize=12)\n",
    "mpl.rc('ytick', labelsize=12)\n",
    "\n",
    "# Where to save the figures\n",
    "PROJECT_ROOT_DIR = \".\"\n",
    "CHAPTER_ID = \"classification\"\n",
    "\n",
    "def save_fig(fig_id, tight_layout=True):\n",
    "    path = os.path.join(PROJECT_ROOT_DIR, \"images\", CHAPTER_ID, fig_id + \".png\")\n",
    "    print(\"Saving figure\", fig_id)\n",
    "    if tight_layout:\n",
    "        plt.tight_layout()\n",
    "    plt.savefig(path, format='png', dpi=300)\n",
    "import warnings\n",
    "warnings.filterwarnings(action=\"ignore\", message=\"^internal gelsd\")\n",
    "warnings.simplefilter('ignore')"
   ]
  },
  {
   "cell_type": "code",
   "execution_count": 2,
   "metadata": {},
   "outputs": [],
   "source": [
    "train = pd.read_csv(\"training.csv\") #reading training.csv\n",
    "train = train.dropna(subset=['price']) #dropping the rows completely from train that has null prices\n",
    "\n",
    "train_x_e = train.drop(columns='price') #containing all input features except the price column\n",
    "train_y = train[['price']] #containing the target label \"price\" only\n",
    "\n",
    "nan_columns = train.columns[train.isna().any()].tolist() #finding the features (columns) that contain missing (NaN) values and then returning all of them in a list\n",
    "train_x_e = train_x_e.fillna(train_x_e.median()) #filling the missing values with the median value of the corresponding featur\n",
    "\n",
    "categorical_columns = train_x_e.select_dtypes(include='object').columns.tolist() #finding all features (columns) that contain categorical values ('object') and storing their column names into list categorical_columns\n",
    "train_x_e = pd.get_dummies(train_x_e,columns=categorical_columns) #modifying train_x_e by replacing categorical columns with their one-hot encoding representations"
   ]
  },
  {
   "cell_type": "code",
   "execution_count": 3,
   "metadata": {},
   "outputs": [],
   "source": [
    "test = pd.read_csv(\"test.csv\") #reading test.csv\n",
    "test = test.dropna(subset=['price']) #dropping the rows completely from test that has null prices\n",
    "\n",
    "test_x = test.drop(columns='price') #containing all input features except the price column\n",
    "test_y = test[['price']] #containing the target label \"price\" only\n",
    "\n",
    "nan_test_columns = test.columns[test.isna().any()].tolist() #finding the features (columns) that contain missing (NaN) values and then returning all of them in a list\n",
    "test_x = test_x.fillna(test_x.median()) #filling the missing values with the median value of the corresponding feature\n",
    "\n",
    "categorical_test_columns = test_x.select_dtypes(include='object').columns.tolist() #finding all features (columns) that contain categorical values ('object') and storing their column names into list categorical_columns \n",
    "test_x = pd.get_dummies(test_x,columns=categorical_test_columns) #modifying test_x by replacing categorical columns with their one-hot encoding representations"
   ]
  },
  {
   "cell_type": "code",
   "execution_count": 4,
   "metadata": {},
   "outputs": [],
   "source": [
    "from sklearn.preprocessing import StandardScaler\n",
    "#scaling all columns in train_x_e with standardization with a transformer called StandardScaler\n",
    "scaler = StandardScaler()\n",
    "scaler.fit(train_x_e)\n",
    "train_scaler = scaler.transform(train_x_e)\n",
    "train_x_e = pd.DataFrame(data=train_scaler,index=train_x_e.index,columns=train_x_e.columns) #converting the output of scaler numpy array into dataframe after standardization also adding the original data frame’s indices and columns to the new data frame\n",
    "#scaling all columns in test_x with standardization with a transformer called StandardScaler\n",
    "test_scaler = scaler.transform(test_x)\n",
    "test_x = pd.DataFrame(data=test_scaler,index=test_x.index,columns=test_x.columns) #converting the output of scaler numpy array into dataframe after standardization also adding the original data frame’s indices and columns to the new data frame"
   ]
  },
  {
   "cell_type": "markdown",
   "metadata": {},
   "source": [
    "## KNN REGGRESSOR TO PREDICT CAR PRICES "
   ]
  },
  {
   "cell_type": "code",
   "execution_count": 5,
   "metadata": {},
   "outputs": [],
   "source": [
    "from sklearn.model_selection import train_test_split\n",
    "#Split your training dataset (train_x_e and train_y) into a validation and new training set ( 80% training and 20% validation , use random_state = 0 with sklearn’s train_test_split)\n",
    "X_train, X_val, y_train, y_val = train_test_split(train_x_e,train_y,test_size=0.2, random_state=0)"
   ]
  },
  {
   "cell_type": "markdown",
   "metadata": {},
   "source": [
    "### a) Training Vs Validation Plot:"
   ]
  },
  {
   "cell_type": "code",
   "execution_count": 6,
   "metadata": {},
   "outputs": [],
   "source": [
    "train_split_x = X_train\n",
    "train_split_y = y_train\n",
    "val_split_x = X_val\n",
    "val_split_y = y_val"
   ]
  },
  {
   "cell_type": "code",
   "execution_count": 7,
   "metadata": {},
   "outputs": [],
   "source": [
    "from sklearn.neighbors import KNeighborsRegressor\n",
    "from sklearn.metrics import mean_squared_error\n",
    "\n",
    "knn_training_errors = []\n",
    "knn_validation_error = []\n",
    "\n",
    "def plot_training_vs_validation(tr_x,tr_y,val_x,val_y):\n",
    "    \n",
    "    knn_training_errors = []\n",
    "    knn_validation_error = []\n",
    "    \n",
    "    for k in range(1,30):\n",
    "        knn_reg = KNeighborsRegressor(n_neighbors=k) #KNN Regression model,KNN model’s number of neighbours is k\n",
    "        knn_reg.fit(tr_x,tr_y)\n",
    "        train_predict = knn_reg.predict(tr_x)\n",
    "        val_predict = knn_reg.predict(val_x)\n",
    "        knn_training_errors.append(mean_squared_error(tr_y,train_predict))\n",
    "        knn_validation_error.append(mean_squared_error(val_y,val_predict))\n",
    "    plt.plot(knn_training_errors, \"r-+\", linewidth=2, label=\"train\")\n",
    "    plt.plot(knn_validation_error, \"b-\", linewidth=3, label=\"val\")\n",
    "    plt.legend(loc=\"upper right\", fontsize=14)  \n",
    "    plt.xlabel(\"k\", fontsize=14) \n",
    "    plt.ylabel(\"MSE\", fontsize=14) "
   ]
  },
  {
   "cell_type": "code",
   "execution_count": 8,
   "metadata": {},
   "outputs": [
    {
     "data": {
      "image/png": "[encoded data removed]",
      "text/plain": [
       "<Figure size 432x288 with 1 Axes>"
      ]
     },
     "metadata": {
      "needs_background": "light"
     },
     "output_type": "display_data"
    }
   ],
   "source": [
    "plot_training_vs_validation(train_split_x,train_split_y,val_split_x,val_split_y) #training vs validation plot\n",
    "plt.show() "
   ]
  },
  {
   "cell_type": "markdown",
   "metadata": {},
   "source": [
    "### b) Test your model:"
   ]
  },
  {
   "cell_type": "code",
   "execution_count": 9,
   "metadata": {
    "ExecuteTime": {
     "end_time": "2019-12-13T17:59:49.282500Z",
     "start_time": "2019-12-13T17:59:49.277513Z"
    }
   },
   "outputs": [
    {
     "data": {
      "text/plain": [
       "KNeighborsRegressor(algorithm='auto', leaf_size=30, metric='minkowski',\n",
       "                    metric_params=None, n_jobs=None, n_neighbors=3, p=2,\n",
       "                    weights='uniform')"
      ]
     },
     "execution_count": 9,
     "metadata": {},
     "output_type": "execute_result"
    }
   ],
   "source": [
    "best_knn = KNeighborsRegressor(n_neighbors=3) #re-creating best model as best_knn 3 or 4 can be best knn I selected 3\n",
    "best_knn.fit(train_x_e, train_y) #training best_knn"
   ]
  },
  {
   "cell_type": "code",
   "execution_count": 10,
   "metadata": {},
   "outputs": [],
   "source": [
    "knn_preds = best_knn.predict(test_x)"
   ]
  },
  {
   "cell_type": "code",
   "execution_count": 11,
   "metadata": {},
   "outputs": [
    {
     "name": "stdout",
     "output_type": "stream",
     "text": [
      "19032660.224483024\n"
     ]
    }
   ],
   "source": [
    "knn_mse = mean_squared_error(test_y , knn_preds)\n",
    "print(knn_mse) #test MSE on the test set"
   ]
  },
  {
   "cell_type": "markdown",
   "metadata": {},
   "source": [
    "## DECISION TREE REGRESSOR TO PREDICT CAR PRICES"
   ]
  },
  {
   "cell_type": "markdown",
   "metadata": {},
   "source": [
    "### c) Grid Search to find best model:"
   ]
  },
  {
   "cell_type": "code",
   "execution_count": 12,
   "metadata": {},
   "outputs": [
    {
     "data": {
      "text/plain": [
       "GridSearchCV(cv=5, error_score='raise-deprecating',\n",
       "             estimator=DecisionTreeRegressor(criterion='mse', max_depth=None,\n",
       "                                             max_features=None,\n",
       "                                             max_leaf_nodes=None,\n",
       "                                             min_impurity_decrease=0.0,\n",
       "                                             min_impurity_split=None,\n",
       "                                             min_samples_leaf=1,\n",
       "                                             min_samples_split=2,\n",
       "                                             min_weight_fraction_leaf=0.0,\n",
       "                                             presort=False, random_state=None,\n",
       "                                             splitter='best'),\n",
       "             iid='warn', n_jobs=None,\n",
       "             param_grid=[{'max_depth': [None, 1, 5, 10],\n",
       "                          'max_features': ['auto', 'sqrt', 'log2'],\n",
       "                          'max_leaf_nodes': [10, 50, 100, 250],\n",
       "                          'min_samples_split': [0.01, 0.05, 0.1, 0.3],\n",
       "                          'random_state': [0]}],\n",
       "             pre_dispatch='2*n_jobs', refit=True, return_train_score=True,\n",
       "             scoring='neg_mean_squared_error', verbose=0)"
      ]
     },
     "execution_count": 12,
     "metadata": {},
     "output_type": "execute_result"
    }
   ],
   "source": [
    "from sklearn.model_selection import GridSearchCV\n",
    "from sklearn.tree import DecisionTreeRegressor\n",
    "\n",
    "tree_reg = DecisionTreeRegressor() #Decision Tree model\n",
    "param_tree = [{'max_depth': [None, 1, 5, 10], 'min_samples_split': [0.01, 0.05, 0.1, 0.3],'max_features':['auto', 'sqrt', 'log2'],'max_leaf_nodes':[10, 50, 100, 250],'random_state':[0]}]\n",
    "decision_tree_grid = GridSearchCV(tree_reg, param_tree, cv=5,scoring=\"neg_mean_squared_error\",return_train_score=True)\n",
    "decision_tree_grid.fit(train_x_e, train_y)"
   ]
  },
  {
   "cell_type": "code",
   "execution_count": 13,
   "metadata": {},
   "outputs": [
    {
     "data": {
      "text/plain": [
       "{'max_depth': None,\n",
       " 'max_features': 'auto',\n",
       " 'max_leaf_nodes': 50,\n",
       " 'min_samples_split': 0.1,\n",
       " 'random_state': 0}"
      ]
     },
     "execution_count": 13,
     "metadata": {},
     "output_type": "execute_result"
    }
   ],
   "source": [
    "decision_tree_grid.best_params_ #best parameters"
   ]
  },
  {
   "cell_type": "code",
   "execution_count": 14,
   "metadata": {},
   "outputs": [
    {
     "name": "stdout",
     "output_type": "stream",
     "text": [
      "11321462.259990446\n"
     ]
    }
   ],
   "source": [
    "decision_tree_grid_mse = -(decision_tree_grid.best_score_)\n",
    "print(decision_tree_grid_mse) #obtaining MSE"
   ]
  },
  {
   "cell_type": "markdown",
   "metadata": {},
   "source": [
    "### d) Test your model:"
   ]
  },
  {
   "cell_type": "code",
   "execution_count": 15,
   "metadata": {},
   "outputs": [
    {
     "data": {
      "text/plain": [
       "DecisionTreeRegressor(criterion='mse', max_depth=None, max_features='auto',\n",
       "                      max_leaf_nodes=50, min_impurity_decrease=0.0,\n",
       "                      min_impurity_split=None, min_samples_leaf=1,\n",
       "                      min_samples_split=0.1, min_weight_fraction_leaf=0.0,\n",
       "                      presort=False, random_state=0, splitter='best')"
      ]
     },
     "execution_count": 15,
     "metadata": {},
     "output_type": "execute_result"
    }
   ],
   "source": [
    "#recreating your best Decision Tree model\n",
    "best_tree = DecisionTreeRegressor(max_depth= None, max_features='auto',max_leaf_nodes=50,min_samples_split= 0.1,random_state= 0) #recreating the model using the best parameters in (n)\n",
    "best_tree.fit(train_x_e, train_y)"
   ]
  },
  {
   "cell_type": "code",
   "execution_count": 16,
   "metadata": {},
   "outputs": [],
   "source": [
    "tree_preds = best_tree.predict(test_x) #getting predictions"
   ]
  },
  {
   "cell_type": "code",
   "execution_count": 17,
   "metadata": {},
   "outputs": [
    {
     "name": "stdout",
     "output_type": "stream",
     "text": [
      "15970311.088158127\n"
     ]
    }
   ],
   "source": [
    "tree_mse = mean_squared_error(test_y, tree_preds) #testing MSE on the test set\n",
    "print(tree_mse)"
   ]
  },
  {
   "cell_type": "markdown",
   "metadata": {},
   "source": [
    "## ENSEMBLE BAGGING REGRESSOR TO PREDICT CAR PRICES"
   ]
  },
  {
   "cell_type": "markdown",
   "metadata": {},
   "source": [
    "### e) Grid Search to find best model:"
   ]
  },
  {
   "cell_type": "code",
   "execution_count": 18,
   "metadata": {
    "ExecuteTime": {
     "end_time": "2019-12-13T18:09:52.935086Z",
     "start_time": "2019-12-13T18:09:52.931109Z"
    }
   },
   "outputs": [
    {
     "data": {
      "text/plain": [
       "GridSearchCV(cv=5, error_score='raise-deprecating',\n",
       "             estimator=BaggingRegressor(base_estimator=None, bootstrap=True,\n",
       "                                        bootstrap_features=False,\n",
       "                                        max_features=1.0, max_samples=1.0,\n",
       "                                        n_estimators=10, n_jobs=None,\n",
       "                                        oob_score=False, random_state=None,\n",
       "                                        verbose=0, warm_start=False),\n",
       "             iid='warn', n_jobs=None,\n",
       "             param_grid=[{'base_estimator': [LinearRegression(copy_X=True,\n",
       "                                                              fit_int...\n",
       "                                                                   min_impurity_decrease=0.0,\n",
       "                                                                   min_impurity_split=None,\n",
       "                                                                   min_samples_leaf=1,\n",
       "                                                                   min_samples_split=2,\n",
       "                                                                   min_weight_fraction_leaf=0.0,\n",
       "                                                                   presort=False,\n",
       "                                                                   random_state=0,\n",
       "                                                                   splitter='best')],\n",
       "                          'bootstrap_features': [False, True],\n",
       "                          'n_estimators': [25, 50, 100, 250],\n",
       "                          'random_state': [0]}],\n",
       "             pre_dispatch='2*n_jobs', refit=True, return_train_score=True,\n",
       "             scoring='neg_mean_squared_error', verbose=0)"
      ]
     },
     "execution_count": 18,
     "metadata": {},
     "output_type": "execute_result"
    }
   ],
   "source": [
    "from sklearn.ensemble import BaggingRegressor\n",
    "from sklearn.linear_model import LinearRegression\n",
    "\n",
    "bagg_reg = BaggingRegressor() #Bagging Regressor model\n",
    "params_bag = [{\"base_estimator\":[LinearRegression(),KNeighborsRegressor(),DecisionTreeRegressor(random_state=0)],\"n_estimators\": [25, 50, 100, 250],\"bootstrap_features\": [False,True],'random_state':[0]}]\n",
    "bag_grid = GridSearchCV(bagg_reg, param_grid=params_bag,cv=5,scoring=\"neg_mean_squared_error\",return_train_score=True)\n",
    "bag_grid.fit(train_x_e, train_y)"
   ]
  },
  {
   "cell_type": "code",
   "execution_count": 19,
   "metadata": {},
   "outputs": [
    {
     "data": {
      "text/plain": [
       "{'base_estimator': DecisionTreeRegressor(criterion='mse', max_depth=None, max_features=None,\n",
       "                       max_leaf_nodes=None, min_impurity_decrease=0.0,\n",
       "                       min_impurity_split=None, min_samples_leaf=1,\n",
       "                       min_samples_split=2, min_weight_fraction_leaf=0.0,\n",
       "                       presort=False, random_state=0, splitter='best'),\n",
       " 'bootstrap_features': True,\n",
       " 'n_estimators': 25,\n",
       " 'random_state': 0}"
      ]
     },
     "execution_count": 19,
     "metadata": {},
     "output_type": "execute_result"
    }
   ],
   "source": [
    "bag_grid.best_params_ #best parameters"
   ]
  },
  {
   "cell_type": "code",
   "execution_count": 20,
   "metadata": {},
   "outputs": [
    {
     "name": "stdout",
     "output_type": "stream",
     "text": [
      "7703546.354830528\n"
     ]
    }
   ],
   "source": [
    "bag_grid_mse = -(bag_grid.best_score_)\n",
    "print(bag_grid_mse) #obtaining MSE"
   ]
  },
  {
   "cell_type": "markdown",
   "metadata": {},
   "source": [
    "### f) Test your model:"
   ]
  },
  {
   "cell_type": "code",
   "execution_count": 21,
   "metadata": {},
   "outputs": [
    {
     "data": {
      "text/plain": [
       "BaggingRegressor(base_estimator=DecisionTreeRegressor(criterion='mse',\n",
       "                                                      max_depth=None,\n",
       "                                                      max_features=None,\n",
       "                                                      max_leaf_nodes=None,\n",
       "                                                      min_impurity_decrease=0.0,\n",
       "                                                      min_impurity_split=None,\n",
       "                                                      min_samples_leaf=1,\n",
       "                                                      min_samples_split=2,\n",
       "                                                      min_weight_fraction_leaf=0.0,\n",
       "                                                      presort=False,\n",
       "                                                      random_state=0,\n",
       "                                                      splitter='best'),\n",
       "                 bootstrap=True, bootstrap_features=True, max_features=1.0,\n",
       "                 max_samples=1.0, n_estimators=25, n_jobs=None, oob_score=False,\n",
       "                 random_state=0, verbose=0, warm_start=False)"
      ]
     },
     "execution_count": 21,
     "metadata": {},
     "output_type": "execute_result"
    }
   ],
   "source": [
    "#Recreating your best Ensemble Bagging model\n",
    "best_bag = BaggingRegressor(base_estimator=DecisionTreeRegressor(criterion='mse', max_depth=None, max_features=None,\n",
    "                       max_leaf_nodes=None, min_impurity_decrease=0.0,\n",
    "                       min_impurity_split=None, min_samples_leaf=1,\n",
    "                       min_samples_split=2, min_weight_fraction_leaf=0.0,\n",
    "                       presort=False, random_state=0, splitter='best'),bootstrap_features=True,n_estimators=25,random_state=0)\n",
    "best_bag.fit(train_x_e, train_y)"
   ]
  },
  {
   "cell_type": "code",
   "execution_count": 22,
   "metadata": {},
   "outputs": [],
   "source": [
    "bag_preds = best_bag.predict(test_x) #getting predictions"
   ]
  },
  {
   "cell_type": "code",
   "execution_count": 23,
   "metadata": {},
   "outputs": [
    {
     "name": "stdout",
     "output_type": "stream",
     "text": [
      "5796232.42420016\n"
     ]
    }
   ],
   "source": [
    "bag_mse = mean_squared_error(test_y,bag_preds) #testing MSE on the test set.\n",
    "print(bag_mse)"
   ]
  },
  {
   "cell_type": "markdown",
   "metadata": {},
   "source": [
    "## RANDOM FOREST REGRESSOR TO PREDICT CAR PRICES"
   ]
  },
  {
   "cell_type": "markdown",
   "metadata": {},
   "source": [
    "### g) Grid Search to find best model:"
   ]
  },
  {
   "cell_type": "code",
   "execution_count": 24,
   "metadata": {},
   "outputs": [
    {
     "data": {
      "text/plain": [
       "GridSearchCV(cv=5, error_score='raise-deprecating',\n",
       "             estimator=RandomForestRegressor(bootstrap=True, criterion='mse',\n",
       "                                             max_depth=None,\n",
       "                                             max_features='auto',\n",
       "                                             max_leaf_nodes=None,\n",
       "                                             min_impurity_decrease=0.0,\n",
       "                                             min_impurity_split=None,\n",
       "                                             min_samples_leaf=1,\n",
       "                                             min_samples_split=2,\n",
       "                                             min_weight_fraction_leaf=0.0,\n",
       "                                             n_estimators='warn', n_jobs=None,\n",
       "                                             oob_score=False, random_state=None,\n",
       "                                             verbose=0, warm_start=False),\n",
       "             iid='warn', n_jobs=None,\n",
       "             param_grid=[{'max_depth': [None, 1, 5, 10],\n",
       "                          'n_estimators': [25, 50, 100, 250],\n",
       "                          'random_state': [0]}],\n",
       "             pre_dispatch='2*n_jobs', refit=True, return_train_score=True,\n",
       "             scoring='neg_mean_squared_error', verbose=0)"
      ]
     },
     "execution_count": 24,
     "metadata": {},
     "output_type": "execute_result"
    }
   ],
   "source": [
    "from sklearn.ensemble import RandomForestRegressor\n",
    "\n",
    "randomForest_reg = RandomForestRegressor() #Random Forest model\n",
    "param_RF = [{'n_estimators': [25, 50, 100, 250], 'max_depth': [None, 1, 5, 10],'random_state':[0]}]\n",
    "random_forest_grid = GridSearchCV(randomForest_reg,param_RF,cv=5,scoring=\"neg_mean_squared_error\",return_train_score=True)\n",
    "random_forest_grid.fit(train_x_e, train_y)"
   ]
  },
  {
   "cell_type": "code",
   "execution_count": 25,
   "metadata": {},
   "outputs": [
    {
     "data": {
      "text/plain": [
       "{'max_depth': 10, 'n_estimators': 250, 'random_state': 0}"
      ]
     },
     "execution_count": 25,
     "metadata": {},
     "output_type": "execute_result"
    }
   ],
   "source": [
    "random_forest_grid.best_params_ #best model’s parameters "
   ]
  },
  {
   "cell_type": "code",
   "execution_count": 26,
   "metadata": {},
   "outputs": [
    {
     "name": "stdout",
     "output_type": "stream",
     "text": [
      "8766194.653429836\n"
     ]
    }
   ],
   "source": [
    "random_forest_grid_mse = -(random_forest_grid.best_score_) #model's mse error.\n",
    "print(random_forest_grid_mse) "
   ]
  },
  {
   "cell_type": "markdown",
   "metadata": {},
   "source": [
    "### h) Test your model:"
   ]
  },
  {
   "cell_type": "code",
   "execution_count": 27,
   "metadata": {},
   "outputs": [
    {
     "data": {
      "text/plain": [
       "RandomForestRegressor(bootstrap=True, criterion='mse', max_depth=10,\n",
       "                      max_features='auto', max_leaf_nodes=None,\n",
       "                      min_impurity_decrease=0.0, min_impurity_split=None,\n",
       "                      min_samples_leaf=1, min_samples_split=2,\n",
       "                      min_weight_fraction_leaf=0.0, n_estimators=250,\n",
       "                      n_jobs=None, oob_score=False, random_state=0, verbose=0,\n",
       "                      warm_start=False)"
      ]
     },
     "execution_count": 27,
     "metadata": {},
     "output_type": "execute_result"
    }
   ],
   "source": [
    "#Recreating your best Random Forest model\n",
    "best_random_forest = RandomForestRegressor(max_depth=10,n_estimators=250,random_state=0)\n",
    "best_random_forest.fit(train_x_e, train_y)"
   ]
  },
  {
   "cell_type": "code",
   "execution_count": 28,
   "metadata": {},
   "outputs": [],
   "source": [
    "random_forest_preds = best_random_forest.predict(test_x) #getting predictions"
   ]
  },
  {
   "cell_type": "code",
   "execution_count": 29,
   "metadata": {},
   "outputs": [
    {
     "name": "stdout",
     "output_type": "stream",
     "text": [
      "5677265.139094966\n"
     ]
    }
   ],
   "source": [
    "random_forest_mse = mean_squared_error(test_y,random_forest_preds) #getting mse error\n",
    "print(random_forest_mse)"
   ]
  },
  {
   "cell_type": "markdown",
   "metadata": {},
   "source": [
    "### i) Feature Importances:"
   ]
  },
  {
   "cell_type": "code",
   "execution_count": 30,
   "metadata": {},
   "outputs": [
    {
     "name": "stdout",
     "output_type": "stream",
     "text": [
      "['enginesize', 'curbweight', 'highwaympg']\n"
     ]
    }
   ],
   "source": [
    "feature_importances = pd.DataFrame(best_random_forest.feature_importances_,index = train_x_e.columns,columns=['importance']).sort_values('importance',ascending=False)\n",
    "top_3_rf_features = feature_importances.index[:3].tolist()\n",
    "print(top_3_rf_features) #Print out the three most important features according to your best model."
   ]
  },
  {
   "cell_type": "code",
   "execution_count": 31,
   "metadata": {},
   "outputs": [
    {
     "name": "stdout",
     "output_type": "stream",
     "text": [
      "[0.02918598 0.0347361  0.03522646]\n"
     ]
    }
   ],
   "source": [
    "top_3_rf_features = best_random_forest.feature_importances_[:3] #in the book I saw this..\n",
    "print(top_3_rf_features)"
   ]
  }
 ],
 "metadata": {
  "kernelspec": {
   "display_name": "Python 3",
   "language": "python",
   "name": "python3"
  },
  "language_info": {
   "codemirror_mode": {
    "name": "ipython",
    "version": 3
   },
   "file_extension": ".py",
   "mimetype": "text/x-python",
   "name": "python",
   "nbconvert_exporter": "python",
   "pygments_lexer": "ipython3",
   "version": "3.7.2"
  },
  "toc": {
   "base_numbering": 1,
   "nav_menu": {},
   "number_sections": false,
   "sideBar": true,
   "skip_h1_title": false,
   "title_cell": "Table of Contents",
   "title_sidebar": "Contents",
   "toc_cell": false,
   "toc_position": {
    "height": "calc(100% - 180px)",
    "left": "10px",
    "top": "150px",
    "width": "284.444px"
   },
   "toc_section_display": true,
   "toc_window_display": false
  },
  "varInspector": {
   "cols": {
    "lenName": 16,
    "lenType": 16,
    "lenVar": 40
   },
   "kernels_config": {
    "python": {
     "delete_cmd_postfix": "",
     "delete_cmd_prefix": "del ",
     "library": "var_list.py",
     "varRefreshCmd": "print(var_dic_list())"
    },
    "r": {
     "delete_cmd_postfix": ") ",
     "delete_cmd_prefix": "rm(",
     "library": "var_list.r",
     "varRefreshCmd": "cat(var_dic_list()) "
    }
   },
   "types_to_exclude": [
    "module",
    "function",
    "builtin_function_or_method",
    "instance",
    "_Feature"
   ],
   "window_display": false
  }
 },
 "nbformat": 4,
 "nbformat_minor": 2
}
