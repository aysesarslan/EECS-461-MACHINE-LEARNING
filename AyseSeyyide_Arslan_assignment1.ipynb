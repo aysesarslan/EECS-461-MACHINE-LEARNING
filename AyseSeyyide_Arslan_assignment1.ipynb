{
 "cells": [
  {
   "cell_type": "code",
   "execution_count": 1,
   "metadata": {},
   "outputs": [],
   "source": [
    "from __future__ import division, print_function, unicode_literals\n",
    "\n",
    "# Common imports\n",
    "import numpy as np\n",
    "import os\n",
    "import pandas as pd\n",
    "\n",
    "\n",
    "# to make this notebook's output stable across runs\n",
    "np.random.seed(42)\n",
    "\n",
    "# To plot pretty figures\n",
    "%matplotlib inline\n",
    "import matplotlib as mpl\n",
    "import matplotlib.pyplot as plt\n",
    "mpl.rc('axes', labelsize=14)\n",
    "mpl.rc('xtick', labelsize=12)\n",
    "mpl.rc('ytick', labelsize=12)\n",
    "\n",
    "# Where to save the figures\n",
    "PROJECT_ROOT_DIR = \".\"\n",
    "CHAPTER_ID = \"end_to_end_project\"\n",
    "IMAGES_PATH = os.path.join(PROJECT_ROOT_DIR, \"images\", CHAPTER_ID)\n",
    "\n",
    "def save_fig(fig_id, tight_layout=True, fig_extension=\"png\", resolution=300):\n",
    "    path = os.path.join(IMAGES_PATH, fig_id + \".\" + fig_extension)\n",
    "    print(\"Saving figure\", fig_id)\n",
    "    if tight_layout:\n",
    "        plt.tight_layout()\n",
    "    plt.savefig(path, format=fig_extension, dpi=resolution)\n",
    "\n",
    "# Ignore useless warnings (see SciPy issue #5998)\n",
    "import warnings\n",
    "warnings.filterwarnings(action=\"ignore\", message=\"^internal gelsd\")\n",
    "warnings.simplefilter('ignore')"
   ]
  },
  {
   "cell_type": "markdown",
   "metadata": {},
   "source": [
    "## DATA PREPARATION"
   ]
  },
  {
   "cell_type": "markdown",
   "metadata": {},
   "source": [
    "### part a"
   ]
  },
  {
   "cell_type": "code",
   "execution_count": 2,
   "metadata": {},
   "outputs": [],
   "source": [
    "training_data = pd.read_csv('training.csv') #reading training.csv file\n",
    "training_data  = training_data.dropna(subset=['price']) #part b: dropping the rows completely from training_data that has null prices\n",
    "train_x_a = training_data.drop(columns='price') #containing all input features except the price column\n",
    "train_y = training_data[['price']].copy() #containing the target label \"price\" only"
   ]
  },
  {
   "cell_type": "code",
   "execution_count": 3,
   "metadata": {
    "scrolled": true
   },
   "outputs": [
    {
     "data": {
      "text/html": [
       "<div>\n",
       "<style scoped>\n",
       "    .dataframe tbody tr th:only-of-type {\n",
       "        vertical-align: middle;\n",
       "    }\n",
       "\n",
       "    .dataframe tbody tr th {\n",
       "        vertical-align: top;\n",
       "    }\n",
       "\n",
       "    .dataframe thead th {\n",
       "        text-align: right;\n",
       "    }\n",
       "</style>\n",
       "<table border=\"1\" class=\"dataframe\">\n",
       "  <thead>\n",
       "    <tr style=\"text-align: right;\">\n",
       "      <th></th>\n",
       "      <th>fueltype</th>\n",
       "      <th>aspiration</th>\n",
       "      <th>doornumber</th>\n",
       "      <th>carbody</th>\n",
       "      <th>drivewheel</th>\n",
       "      <th>enginelocation</th>\n",
       "      <th>wheelbase</th>\n",
       "      <th>carlength</th>\n",
       "      <th>carwidth</th>\n",
       "      <th>carheight</th>\n",
       "      <th>...</th>\n",
       "      <th>cylindernumber</th>\n",
       "      <th>enginesize</th>\n",
       "      <th>fuelsystem</th>\n",
       "      <th>boreratio</th>\n",
       "      <th>stroke</th>\n",
       "      <th>compressionratio</th>\n",
       "      <th>horsepower</th>\n",
       "      <th>peakrpm</th>\n",
       "      <th>citympg</th>\n",
       "      <th>highwaympg</th>\n",
       "    </tr>\n",
       "  </thead>\n",
       "  <tbody>\n",
       "    <tr>\n",
       "      <td>0</td>\n",
       "      <td>gas</td>\n",
       "      <td>std</td>\n",
       "      <td>four</td>\n",
       "      <td>sedan</td>\n",
       "      <td>rwd</td>\n",
       "      <td>front</td>\n",
       "      <td>104.3</td>\n",
       "      <td>188.8</td>\n",
       "      <td>67.2</td>\n",
       "      <td>56.2</td>\n",
       "      <td>...</td>\n",
       "      <td>four</td>\n",
       "      <td>141.0</td>\n",
       "      <td>mpfi</td>\n",
       "      <td>NaN</td>\n",
       "      <td>3.15</td>\n",
       "      <td>9.5</td>\n",
       "      <td>114.0</td>\n",
       "      <td>5400.0</td>\n",
       "      <td>24.0</td>\n",
       "      <td>28.0</td>\n",
       "    </tr>\n",
       "    <tr>\n",
       "      <td>1</td>\n",
       "      <td>gas</td>\n",
       "      <td>std</td>\n",
       "      <td>four</td>\n",
       "      <td>wagon</td>\n",
       "      <td>fwd</td>\n",
       "      <td>front</td>\n",
       "      <td>94.5</td>\n",
       "      <td>170.2</td>\n",
       "      <td>63.8</td>\n",
       "      <td>53.5</td>\n",
       "      <td>...</td>\n",
       "      <td>four</td>\n",
       "      <td>97.0</td>\n",
       "      <td>2bbl</td>\n",
       "      <td>3.15</td>\n",
       "      <td>3.29</td>\n",
       "      <td>9.4</td>\n",
       "      <td>69.0</td>\n",
       "      <td>5200.0</td>\n",
       "      <td>31.0</td>\n",
       "      <td>37.0</td>\n",
       "    </tr>\n",
       "  </tbody>\n",
       "</table>\n",
       "<p>2 rows × 22 columns</p>\n",
       "</div>"
      ],
      "text/plain": [
       "  fueltype aspiration doornumber carbody drivewheel enginelocation  wheelbase  \\\n",
       "0      gas        std       four   sedan        rwd          front      104.3   \n",
       "1      gas        std       four   wagon        fwd          front       94.5   \n",
       "\n",
       "   carlength  carwidth  carheight  ...  cylindernumber enginesize fuelsystem  \\\n",
       "0      188.8      67.2       56.2  ...            four      141.0       mpfi   \n",
       "1      170.2      63.8       53.5  ...            four       97.0       2bbl   \n",
       "\n",
       "   boreratio stroke  compressionratio  horsepower  peakrpm  citympg  \\\n",
       "0        NaN   3.15               9.5       114.0   5400.0     24.0   \n",
       "1       3.15   3.29               9.4        69.0   5200.0     31.0   \n",
       "\n",
       "   highwaympg  \n",
       "0        28.0  \n",
       "1        37.0  \n",
       "\n",
       "[2 rows x 22 columns]"
      ]
     },
     "execution_count": 3,
     "metadata": {},
     "output_type": "execute_result"
    }
   ],
   "source": [
    "train_x_a.head(2)"
   ]
  },
  {
   "cell_type": "code",
   "execution_count": 4,
   "metadata": {},
   "outputs": [
    {
     "data": {
      "text/html": [
       "<div>\n",
       "<style scoped>\n",
       "    .dataframe tbody tr th:only-of-type {\n",
       "        vertical-align: middle;\n",
       "    }\n",
       "\n",
       "    .dataframe tbody tr th {\n",
       "        vertical-align: top;\n",
       "    }\n",
       "\n",
       "    .dataframe thead th {\n",
       "        text-align: right;\n",
       "    }\n",
       "</style>\n",
       "<table border=\"1\" class=\"dataframe\">\n",
       "  <thead>\n",
       "    <tr style=\"text-align: right;\">\n",
       "      <th></th>\n",
       "      <th>price</th>\n",
       "    </tr>\n",
       "  </thead>\n",
       "  <tbody>\n",
       "    <tr>\n",
       "      <td>0</td>\n",
       "      <td>15985.0</td>\n",
       "    </tr>\n",
       "    <tr>\n",
       "      <td>1</td>\n",
       "      <td>7349.0</td>\n",
       "    </tr>\n",
       "  </tbody>\n",
       "</table>\n",
       "</div>"
      ],
      "text/plain": [
       "     price\n",
       "0  15985.0\n",
       "1   7349.0"
      ]
     },
     "execution_count": 4,
     "metadata": {},
     "output_type": "execute_result"
    }
   ],
   "source": [
    "train_y.head(2)"
   ]
  },
  {
   "cell_type": "markdown",
   "metadata": {},
   "source": [
    "### part b"
   ]
  },
  {
   "cell_type": "code",
   "execution_count": 5,
   "metadata": {},
   "outputs": [],
   "source": [
    "nan_columns = training_data.columns[training_data.isna().any()].tolist() #finding the features (columns) that contain missing (NaN) values and then returning all of them in a list\n",
    "train_x_b = train_x_a.fillna(train_x_a.median()) #filling the missing values with the median value of the corresponding feature"
   ]
  },
  {
   "cell_type": "code",
   "execution_count": 6,
   "metadata": {},
   "outputs": [
    {
     "name": "stdout",
     "output_type": "stream",
     "text": [
      "['wheelbase', 'carlength', 'carwidth', 'carheight', 'curbweight', 'enginesize', 'boreratio', 'stroke', 'compressionratio', 'horsepower', 'peakrpm', 'citympg', 'highwaympg']\n"
     ]
    }
   ],
   "source": [
    "print(nan_columns)"
   ]
  },
  {
   "cell_type": "code",
   "execution_count": 7,
   "metadata": {},
   "outputs": [
    {
     "data": {
      "text/html": [
       "<div>\n",
       "<style scoped>\n",
       "    .dataframe tbody tr th:only-of-type {\n",
       "        vertical-align: middle;\n",
       "    }\n",
       "\n",
       "    .dataframe tbody tr th {\n",
       "        vertical-align: top;\n",
       "    }\n",
       "\n",
       "    .dataframe thead th {\n",
       "        text-align: right;\n",
       "    }\n",
       "</style>\n",
       "<table border=\"1\" class=\"dataframe\">\n",
       "  <thead>\n",
       "    <tr style=\"text-align: right;\">\n",
       "      <th></th>\n",
       "      <th>fueltype</th>\n",
       "      <th>aspiration</th>\n",
       "      <th>doornumber</th>\n",
       "      <th>carbody</th>\n",
       "      <th>drivewheel</th>\n",
       "      <th>enginelocation</th>\n",
       "      <th>wheelbase</th>\n",
       "      <th>carlength</th>\n",
       "      <th>carwidth</th>\n",
       "      <th>carheight</th>\n",
       "      <th>...</th>\n",
       "      <th>cylindernumber</th>\n",
       "      <th>enginesize</th>\n",
       "      <th>fuelsystem</th>\n",
       "      <th>boreratio</th>\n",
       "      <th>stroke</th>\n",
       "      <th>compressionratio</th>\n",
       "      <th>horsepower</th>\n",
       "      <th>peakrpm</th>\n",
       "      <th>citympg</th>\n",
       "      <th>highwaympg</th>\n",
       "    </tr>\n",
       "  </thead>\n",
       "  <tbody>\n",
       "    <tr>\n",
       "      <td>0</td>\n",
       "      <td>gas</td>\n",
       "      <td>std</td>\n",
       "      <td>four</td>\n",
       "      <td>sedan</td>\n",
       "      <td>rwd</td>\n",
       "      <td>front</td>\n",
       "      <td>104.3</td>\n",
       "      <td>188.8</td>\n",
       "      <td>67.2</td>\n",
       "      <td>56.2</td>\n",
       "      <td>...</td>\n",
       "      <td>four</td>\n",
       "      <td>141.0</td>\n",
       "      <td>mpfi</td>\n",
       "      <td>3.31</td>\n",
       "      <td>3.15</td>\n",
       "      <td>9.5</td>\n",
       "      <td>114.0</td>\n",
       "      <td>5400.0</td>\n",
       "      <td>24.0</td>\n",
       "      <td>28.0</td>\n",
       "    </tr>\n",
       "    <tr>\n",
       "      <td>1</td>\n",
       "      <td>gas</td>\n",
       "      <td>std</td>\n",
       "      <td>four</td>\n",
       "      <td>wagon</td>\n",
       "      <td>fwd</td>\n",
       "      <td>front</td>\n",
       "      <td>94.5</td>\n",
       "      <td>170.2</td>\n",
       "      <td>63.8</td>\n",
       "      <td>53.5</td>\n",
       "      <td>...</td>\n",
       "      <td>four</td>\n",
       "      <td>97.0</td>\n",
       "      <td>2bbl</td>\n",
       "      <td>3.15</td>\n",
       "      <td>3.29</td>\n",
       "      <td>9.4</td>\n",
       "      <td>69.0</td>\n",
       "      <td>5200.0</td>\n",
       "      <td>31.0</td>\n",
       "      <td>37.0</td>\n",
       "    </tr>\n",
       "  </tbody>\n",
       "</table>\n",
       "<p>2 rows × 22 columns</p>\n",
       "</div>"
      ],
      "text/plain": [
       "  fueltype aspiration doornumber carbody drivewheel enginelocation  wheelbase  \\\n",
       "0      gas        std       four   sedan        rwd          front      104.3   \n",
       "1      gas        std       four   wagon        fwd          front       94.5   \n",
       "\n",
       "   carlength  carwidth  carheight  ...  cylindernumber enginesize fuelsystem  \\\n",
       "0      188.8      67.2       56.2  ...            four      141.0       mpfi   \n",
       "1      170.2      63.8       53.5  ...            four       97.0       2bbl   \n",
       "\n",
       "   boreratio stroke  compressionratio  horsepower  peakrpm  citympg  \\\n",
       "0       3.31   3.15               9.5       114.0   5400.0     24.0   \n",
       "1       3.15   3.29               9.4        69.0   5200.0     31.0   \n",
       "\n",
       "   highwaympg  \n",
       "0        28.0  \n",
       "1        37.0  \n",
       "\n",
       "[2 rows x 22 columns]"
      ]
     },
     "execution_count": 7,
     "metadata": {},
     "output_type": "execute_result"
    }
   ],
   "source": [
    "train_x_b.head(2)"
   ]
  },
  {
   "cell_type": "markdown",
   "metadata": {},
   "source": [
    "### part c"
   ]
  },
  {
   "cell_type": "code",
   "execution_count": 8,
   "metadata": {},
   "outputs": [],
   "source": [
    "categorical_columns = train_x_b.select_dtypes(include='object').columns.tolist() #finding all features (columns) that contain categorical values ('object') and storing their column names into list categorical_columns "
   ]
  },
  {
   "cell_type": "code",
   "execution_count": 9,
   "metadata": {},
   "outputs": [
    {
     "name": "stdout",
     "output_type": "stream",
     "text": [
      "['fueltype', 'aspiration', 'doornumber', 'carbody', 'drivewheel', 'enginelocation', 'enginetype', 'cylindernumber', 'fuelsystem']\n"
     ]
    }
   ],
   "source": [
    "print(categorical_columns)"
   ]
  },
  {
   "cell_type": "markdown",
   "metadata": {},
   "source": [
    "### part d"
   ]
  },
  {
   "cell_type": "code",
   "execution_count": 10,
   "metadata": {},
   "outputs": [],
   "source": [
    "#One hot encoding function that uses pandas get_dummies.\n",
    "train_x_d = pd.get_dummies(train_x_b,columns=categorical_columns) #modifying train_x_b by replacing categorical columns with their one-hot encoding representations"
   ]
  },
  {
   "cell_type": "code",
   "execution_count": 11,
   "metadata": {},
   "outputs": [
    {
     "data": {
      "text/html": [
       "<div>\n",
       "<style scoped>\n",
       "    .dataframe tbody tr th:only-of-type {\n",
       "        vertical-align: middle;\n",
       "    }\n",
       "\n",
       "    .dataframe tbody tr th {\n",
       "        vertical-align: top;\n",
       "    }\n",
       "\n",
       "    .dataframe thead th {\n",
       "        text-align: right;\n",
       "    }\n",
       "</style>\n",
       "<table border=\"1\" class=\"dataframe\">\n",
       "  <thead>\n",
       "    <tr style=\"text-align: right;\">\n",
       "      <th></th>\n",
       "      <th>wheelbase</th>\n",
       "      <th>carlength</th>\n",
       "      <th>carwidth</th>\n",
       "      <th>carheight</th>\n",
       "      <th>curbweight</th>\n",
       "      <th>enginesize</th>\n",
       "      <th>boreratio</th>\n",
       "      <th>stroke</th>\n",
       "      <th>compressionratio</th>\n",
       "      <th>horsepower</th>\n",
       "      <th>...</th>\n",
       "      <th>cylindernumber_three</th>\n",
       "      <th>cylindernumber_twelve</th>\n",
       "      <th>cylindernumber_two</th>\n",
       "      <th>fuelsystem_1bbl</th>\n",
       "      <th>fuelsystem_2bbl</th>\n",
       "      <th>fuelsystem_4bbl</th>\n",
       "      <th>fuelsystem_idi</th>\n",
       "      <th>fuelsystem_mfi</th>\n",
       "      <th>fuelsystem_mpfi</th>\n",
       "      <th>fuelsystem_spdi</th>\n",
       "    </tr>\n",
       "  </thead>\n",
       "  <tbody>\n",
       "    <tr>\n",
       "      <td>0</td>\n",
       "      <td>104.3</td>\n",
       "      <td>188.8</td>\n",
       "      <td>67.2</td>\n",
       "      <td>56.2</td>\n",
       "      <td>2403.0</td>\n",
       "      <td>141.0</td>\n",
       "      <td>3.31</td>\n",
       "      <td>3.15</td>\n",
       "      <td>9.5</td>\n",
       "      <td>114.0</td>\n",
       "      <td>...</td>\n",
       "      <td>0</td>\n",
       "      <td>0</td>\n",
       "      <td>0</td>\n",
       "      <td>0</td>\n",
       "      <td>0</td>\n",
       "      <td>0</td>\n",
       "      <td>0</td>\n",
       "      <td>0</td>\n",
       "      <td>1</td>\n",
       "      <td>0</td>\n",
       "    </tr>\n",
       "    <tr>\n",
       "      <td>1</td>\n",
       "      <td>94.5</td>\n",
       "      <td>170.2</td>\n",
       "      <td>63.8</td>\n",
       "      <td>53.5</td>\n",
       "      <td>2024.0</td>\n",
       "      <td>97.0</td>\n",
       "      <td>3.15</td>\n",
       "      <td>3.29</td>\n",
       "      <td>9.4</td>\n",
       "      <td>69.0</td>\n",
       "      <td>...</td>\n",
       "      <td>0</td>\n",
       "      <td>0</td>\n",
       "      <td>0</td>\n",
       "      <td>0</td>\n",
       "      <td>1</td>\n",
       "      <td>0</td>\n",
       "      <td>0</td>\n",
       "      <td>0</td>\n",
       "      <td>0</td>\n",
       "      <td>0</td>\n",
       "    </tr>\n",
       "  </tbody>\n",
       "</table>\n",
       "<p>2 rows × 49 columns</p>\n",
       "</div>"
      ],
      "text/plain": [
       "   wheelbase  carlength  carwidth  carheight  curbweight  enginesize  \\\n",
       "0      104.3      188.8      67.2       56.2      2403.0       141.0   \n",
       "1       94.5      170.2      63.8       53.5      2024.0        97.0   \n",
       "\n",
       "   boreratio  stroke  compressionratio  horsepower  ...  cylindernumber_three  \\\n",
       "0       3.31    3.15               9.5       114.0  ...                     0   \n",
       "1       3.15    3.29               9.4        69.0  ...                     0   \n",
       "\n",
       "   cylindernumber_twelve  cylindernumber_two  fuelsystem_1bbl  \\\n",
       "0                      0                   0                0   \n",
       "1                      0                   0                0   \n",
       "\n",
       "   fuelsystem_2bbl  fuelsystem_4bbl  fuelsystem_idi  fuelsystem_mfi  \\\n",
       "0                0                0               0               0   \n",
       "1                1                0               0               0   \n",
       "\n",
       "   fuelsystem_mpfi  fuelsystem_spdi  \n",
       "0                1                0  \n",
       "1                0                0  \n",
       "\n",
       "[2 rows x 49 columns]"
      ]
     },
     "execution_count": 11,
     "metadata": {},
     "output_type": "execute_result"
    }
   ],
   "source": [
    "train_x_d.head(2)"
   ]
  },
  {
   "cell_type": "markdown",
   "metadata": {},
   "source": [
    "### part e"
   ]
  },
  {
   "cell_type": "code",
   "execution_count": 12,
   "metadata": {},
   "outputs": [],
   "source": [
    "from sklearn.preprocessing import StandardScaler\n",
    "#scaling all columns in train_x_d with standardization with a transformer called StandardScaler\n",
    "scaler = StandardScaler()\n",
    "scaler.fit(train_x_d)\n",
    "train_scaler = scaler.transform(train_x_d)\n",
    "train_x_e = pd.DataFrame(data=train_scaler,index=train_x_d.index,columns=train_x_d.columns) #converting the output of scaler numpy array into dataframe after standardization also adding the original data frame’s indices and columns to the new data frame"
   ]
  },
  {
   "cell_type": "code",
   "execution_count": 13,
   "metadata": {},
   "outputs": [
    {
     "data": {
      "text/html": [
       "<div>\n",
       "<style scoped>\n",
       "    .dataframe tbody tr th:only-of-type {\n",
       "        vertical-align: middle;\n",
       "    }\n",
       "\n",
       "    .dataframe tbody tr th {\n",
       "        vertical-align: top;\n",
       "    }\n",
       "\n",
       "    .dataframe thead th {\n",
       "        text-align: right;\n",
       "    }\n",
       "</style>\n",
       "<table border=\"1\" class=\"dataframe\">\n",
       "  <thead>\n",
       "    <tr style=\"text-align: right;\">\n",
       "      <th></th>\n",
       "      <th>wheelbase</th>\n",
       "      <th>carlength</th>\n",
       "      <th>carwidth</th>\n",
       "      <th>carheight</th>\n",
       "      <th>curbweight</th>\n",
       "      <th>enginesize</th>\n",
       "      <th>boreratio</th>\n",
       "      <th>stroke</th>\n",
       "      <th>compressionratio</th>\n",
       "      <th>horsepower</th>\n",
       "      <th>...</th>\n",
       "      <th>cylindernumber_three</th>\n",
       "      <th>cylindernumber_twelve</th>\n",
       "      <th>cylindernumber_two</th>\n",
       "      <th>fuelsystem_1bbl</th>\n",
       "      <th>fuelsystem_2bbl</th>\n",
       "      <th>fuelsystem_4bbl</th>\n",
       "      <th>fuelsystem_idi</th>\n",
       "      <th>fuelsystem_mfi</th>\n",
       "      <th>fuelsystem_mpfi</th>\n",
       "      <th>fuelsystem_spdi</th>\n",
       "    </tr>\n",
       "  </thead>\n",
       "  <tbody>\n",
       "    <tr>\n",
       "      <td>0</td>\n",
       "      <td>1.040486</td>\n",
       "      <td>1.218356</td>\n",
       "      <td>0.697865</td>\n",
       "      <td>1.103479</td>\n",
       "      <td>-0.217359</td>\n",
       "      <td>0.427546</td>\n",
       "      <td>-0.000506</td>\n",
       "      <td>-0.298040</td>\n",
       "      <td>-0.115772</td>\n",
       "      <td>0.312992</td>\n",
       "      <td>...</td>\n",
       "      <td>-0.080582</td>\n",
       "      <td>-0.080582</td>\n",
       "      <td>-0.114332</td>\n",
       "      <td>-0.248282</td>\n",
       "      <td>-0.720838</td>\n",
       "      <td>-0.114332</td>\n",
       "      <td>-0.315104</td>\n",
       "      <td>-0.080582</td>\n",
       "      <td>1.146051</td>\n",
       "      <td>-0.248282</td>\n",
       "    </tr>\n",
       "    <tr>\n",
       "      <td>1</td>\n",
       "      <td>-0.729389</td>\n",
       "      <td>-0.266100</td>\n",
       "      <td>-1.003614</td>\n",
       "      <td>-0.089818</td>\n",
       "      <td>-0.968641</td>\n",
       "      <td>-0.679464</td>\n",
       "      <td>-0.628165</td>\n",
       "      <td>0.134277</td>\n",
       "      <td>-0.142667</td>\n",
       "      <td>-0.909358</td>\n",
       "      <td>...</td>\n",
       "      <td>-0.080582</td>\n",
       "      <td>-0.080582</td>\n",
       "      <td>-0.114332</td>\n",
       "      <td>-0.248282</td>\n",
       "      <td>1.387274</td>\n",
       "      <td>-0.114332</td>\n",
       "      <td>-0.315104</td>\n",
       "      <td>-0.080582</td>\n",
       "      <td>-0.872562</td>\n",
       "      <td>-0.248282</td>\n",
       "    </tr>\n",
       "  </tbody>\n",
       "</table>\n",
       "<p>2 rows × 49 columns</p>\n",
       "</div>"
      ],
      "text/plain": [
       "   wheelbase  carlength  carwidth  carheight  curbweight  enginesize  \\\n",
       "0   1.040486   1.218356  0.697865   1.103479   -0.217359    0.427546   \n",
       "1  -0.729389  -0.266100 -1.003614  -0.089818   -0.968641   -0.679464   \n",
       "\n",
       "   boreratio    stroke  compressionratio  horsepower  ...  \\\n",
       "0  -0.000506 -0.298040         -0.115772    0.312992  ...   \n",
       "1  -0.628165  0.134277         -0.142667   -0.909358  ...   \n",
       "\n",
       "   cylindernumber_three  cylindernumber_twelve  cylindernumber_two  \\\n",
       "0             -0.080582              -0.080582           -0.114332   \n",
       "1             -0.080582              -0.080582           -0.114332   \n",
       "\n",
       "   fuelsystem_1bbl  fuelsystem_2bbl  fuelsystem_4bbl  fuelsystem_idi  \\\n",
       "0        -0.248282        -0.720838        -0.114332       -0.315104   \n",
       "1        -0.248282         1.387274        -0.114332       -0.315104   \n",
       "\n",
       "   fuelsystem_mfi  fuelsystem_mpfi  fuelsystem_spdi  \n",
       "0       -0.080582         1.146051        -0.248282  \n",
       "1       -0.080582        -0.872562        -0.248282  \n",
       "\n",
       "[2 rows x 49 columns]"
      ]
     },
     "execution_count": 13,
     "metadata": {},
     "output_type": "execute_result"
    }
   ],
   "source": [
    "train_x_e.head(2)"
   ]
  },
  {
   "cell_type": "markdown",
   "metadata": {},
   "source": [
    "## Data Exploration"
   ]
  },
  {
   "cell_type": "markdown",
   "metadata": {},
   "source": [
    "### part f"
   ]
  },
  {
   "cell_type": "code",
   "execution_count": 14,
   "metadata": {},
   "outputs": [
    {
     "data": {
      "image/png": "[encoded data removed]",
      "text/plain": [
       "<Figure size 1440x1080 with 16 Axes>"
      ]
     },
     "metadata": {
      "needs_background": "light"
     },
     "output_type": "display_data"
    }
   ],
   "source": [
    "%matplotlib inline \n",
    "import matplotlib.pyplot as plt\n",
    "training_data.hist(bins=50, figsize=(20,15)) \n",
    "plt.show() \n",
    "#plotting the histogram of each of the variables in your dataset to understand how each variable is distributed\n",
    "#For example, horsepower and peakrpm are clear distributions to see the extreme points, in both distributions the outliers are on te right tail,for the value close to 260 is extreme since generally majority of data is below 230,and for peakrpm there is a value close to 6600 which is extreme since the majority of data is below 6100. These are not only the ones that has extreme points also citympg,boreratio,highwaympg etc has"
   ]
  },
  {
   "cell_type": "markdown",
   "metadata": {},
   "source": [
    "### part g"
   ]
  },
  {
   "cell_type": "code",
   "execution_count": 15,
   "metadata": {},
   "outputs": [
    {
     "data": {
      "text/plain": [
       "price               1.000000\n",
       "enginesize          0.873498\n",
       "curbweight          0.843303\n",
       "carwidth            0.812180\n",
       "horsepower          0.801589\n",
       "carlength           0.710782\n",
       "highwaympg          0.705712\n",
       "wheelbase           0.692405\n",
       "citympg             0.678330\n",
       "boreratio           0.487909\n",
       "carheight           0.211048\n",
       "peakrpm             0.160609\n",
       "compressionratio    0.097012\n",
       "stroke              0.064351\n",
       "Name: price, dtype: float64"
      ]
     },
     "execution_count": 15,
     "metadata": {},
     "output_type": "execute_result"
    }
   ],
   "source": [
    "#calculating the correlation score between all continuous variables in training_data and the target.\n",
    "corr_matrix = training_data.corr().abs()\n",
    "correlations  = corr_matrix['price'].sort_values(ascending=False)\n",
    "top_5_corr = correlations.index[1:6].tolist() #taking top 5 absolute correlations\n",
    "correlations"
   ]
  },
  {
   "cell_type": "code",
   "execution_count": 16,
   "metadata": {},
   "outputs": [
    {
     "name": "stdout",
     "output_type": "stream",
     "text": [
      "['enginesize', 'curbweight', 'carwidth', 'horsepower', 'carlength']\n"
     ]
    }
   ],
   "source": [
    "print(top_5_corr)"
   ]
  },
  {
   "cell_type": "markdown",
   "metadata": {},
   "source": [
    "### part h"
   ]
  },
  {
   "cell_type": "code",
   "execution_count": 17,
   "metadata": {},
   "outputs": [
    {
     "data": {
      "text/plain": [
       "array([[<matplotlib.axes._subplots.AxesSubplot object at 0x0F7C67D0>,\n",
       "        <matplotlib.axes._subplots.AxesSubplot object at 0x11597690>,\n",
       "        <matplotlib.axes._subplots.AxesSubplot object at 0x11633C10>,\n",
       "        <matplotlib.axes._subplots.AxesSubplot object at 0x10F40CF0>,\n",
       "        <matplotlib.axes._subplots.AxesSubplot object at 0x10F54DD0>],\n",
       "       [<matplotlib.axes._subplots.AxesSubplot object at 0x10F71EB0>,\n",
       "        <matplotlib.axes._subplots.AxesSubplot object at 0x10F939F0>,\n",
       "        <matplotlib.axes._subplots.AxesSubplot object at 0x10FB2AD0>,\n",
       "        <matplotlib.axes._subplots.AxesSubplot object at 0x10FBF090>,\n",
       "        <matplotlib.axes._subplots.AxesSubplot object at 0x10FDF230>],\n",
       "       [<matplotlib.axes._subplots.AxesSubplot object at 0x11014D10>,\n",
       "        <matplotlib.axes._subplots.AxesSubplot object at 0x11035DF0>,\n",
       "        <matplotlib.axes._subplots.AxesSubplot object at 0x11055ED0>,\n",
       "        <matplotlib.axes._subplots.AxesSubplot object at 0x11077FB0>,\n",
       "        <matplotlib.axes._subplots.AxesSubplot object at 0x110A3650>],\n",
       "       [<matplotlib.axes._subplots.AxesSubplot object at 0x110C2730>,\n",
       "        <matplotlib.axes._subplots.AxesSubplot object at 0x110E4810>,\n",
       "        <matplotlib.axes._subplots.AxesSubplot object at 0x111048F0>,\n",
       "        <matplotlib.axes._subplots.AxesSubplot object at 0x111259D0>,\n",
       "        <matplotlib.axes._subplots.AxesSubplot object at 0x11143AB0>],\n",
       "       [<matplotlib.axes._subplots.AxesSubplot object at 0x11165B90>,\n",
       "        <matplotlib.axes._subplots.AxesSubplot object at 0x11186C70>,\n",
       "        <matplotlib.axes._subplots.AxesSubplot object at 0x111A5D50>,\n",
       "        <matplotlib.axes._subplots.AxesSubplot object at 0x111C6E30>,\n",
       "        <matplotlib.axes._subplots.AxesSubplot object at 0x111E8F10>]],\n",
       "      dtype=object)"
      ]
     },
     "execution_count": 17,
     "metadata": {},
     "output_type": "execute_result"
    },
    {
     "data": {
      "image/png": "[encoded data removed]",
      "text/plain": [
       "<Figure size 360x360 with 25 Axes>"
      ]
     },
     "metadata": {
      "needs_background": "light"
     },
     "output_type": "display_data"
    }
   ],
   "source": [
    "from pandas.plotting import scatter_matrix\n",
    "\n",
    "scatter_matrix(training_data[top_5_corr], figsize=(5, 5)) #plotting each of the 5 variables which are the top_5_corr"
   ]
  },
  {
   "cell_type": "markdown",
   "metadata": {},
   "source": [
    "## LINEAR REGRESSION TO PREDICT CAR PRICES"
   ]
  },
  {
   "cell_type": "markdown",
   "metadata": {},
   "source": [
    "### part i"
   ]
  },
  {
   "cell_type": "code",
   "execution_count": 18,
   "metadata": {},
   "outputs": [],
   "source": [
    "from sklearn.linear_model import LinearRegression\n",
    "from sklearn.metrics import mean_squared_error\n",
    "\n",
    "lr_model = LinearRegression() #a linear regression model is created\n",
    "lr_model.fit(train_x_e,train_y) #training the model with train_x_e and train_y\n",
    "\n",
    "predictions = lr_model.predict(train_x_e) #getting predictions"
   ]
  },
  {
   "cell_type": "code",
   "execution_count": 19,
   "metadata": {},
   "outputs": [
    {
     "name": "stdout",
     "output_type": "stream",
     "text": [
      "4293452.590313229\n"
     ]
    }
   ],
   "source": [
    "train_mse_score = mean_squared_error(train_y, predictions) #getting MSE for training data\n",
    "print(train_mse_score)"
   ]
  },
  {
   "cell_type": "markdown",
   "metadata": {},
   "source": [
    "### part j"
   ]
  },
  {
   "cell_type": "code",
   "execution_count": 20,
   "metadata": {},
   "outputs": [
    {
     "data": {
      "text/plain": [
       "array([1.37661036e+33, 6.94186147e+06, 8.01068622e+06, 1.14918023e+07,\n",
       "       1.06471945e+28])"
      ]
     },
     "execution_count": 20,
     "metadata": {},
     "output_type": "execute_result"
    }
   ],
   "source": [
    "from sklearn.model_selection import cross_val_score\n",
    "\n",
    "scores = cross_val_score(lr_model,train_x_e,train_y,scoring = \"neg_mean_squared_error\", cv=5) #performing 5-fold cross validation with training data\n",
    "scores = -(scores) #To obtain MSE, we get the absolute value.\n",
    "scores #printing MSE score for each fold"
   ]
  },
  {
   "cell_type": "code",
   "execution_count": 21,
   "metadata": {},
   "outputs": [
    {
     "name": "stdout",
     "output_type": "stream",
     "text": [
      "2.7532420138534752e+32\n"
     ]
    }
   ],
   "source": [
    "average_mse = scores.mean() #average mse \n",
    "print(average_mse)"
   ]
  },
  {
   "cell_type": "markdown",
   "metadata": {},
   "source": [
    "### part k"
   ]
  },
  {
   "cell_type": "code",
   "execution_count": 22,
   "metadata": {},
   "outputs": [],
   "source": [
    "test_data = pd.read_csv('test.csv') #reading test data\n",
    "test_data = test_data.dropna(subset=['price']) #dropping the rows completely from test_data that has null prices\n",
    "test_x = test_data.drop(columns='price') #containing all input features except the price column\n",
    "test_y = test_data[['price']] #containing the target label \"price\" only"
   ]
  },
  {
   "cell_type": "code",
   "execution_count": 23,
   "metadata": {},
   "outputs": [
    {
     "data": {
      "text/html": [
       "<div>\n",
       "<style scoped>\n",
       "    .dataframe tbody tr th:only-of-type {\n",
       "        vertical-align: middle;\n",
       "    }\n",
       "\n",
       "    .dataframe tbody tr th {\n",
       "        vertical-align: top;\n",
       "    }\n",
       "\n",
       "    .dataframe thead th {\n",
       "        text-align: right;\n",
       "    }\n",
       "</style>\n",
       "<table border=\"1\" class=\"dataframe\">\n",
       "  <thead>\n",
       "    <tr style=\"text-align: right;\">\n",
       "      <th></th>\n",
       "      <th>fueltype</th>\n",
       "      <th>aspiration</th>\n",
       "      <th>doornumber</th>\n",
       "      <th>carbody</th>\n",
       "      <th>drivewheel</th>\n",
       "      <th>enginelocation</th>\n",
       "      <th>wheelbase</th>\n",
       "      <th>carlength</th>\n",
       "      <th>carwidth</th>\n",
       "      <th>carheight</th>\n",
       "      <th>...</th>\n",
       "      <th>cylindernumber</th>\n",
       "      <th>enginesize</th>\n",
       "      <th>fuelsystem</th>\n",
       "      <th>boreratio</th>\n",
       "      <th>stroke</th>\n",
       "      <th>compressionratio</th>\n",
       "      <th>horsepower</th>\n",
       "      <th>peakrpm</th>\n",
       "      <th>citympg</th>\n",
       "      <th>highwaympg</th>\n",
       "    </tr>\n",
       "  </thead>\n",
       "  <tbody>\n",
       "    <tr>\n",
       "      <td>0</td>\n",
       "      <td>gas</td>\n",
       "      <td>std</td>\n",
       "      <td>four</td>\n",
       "      <td>wagon</td>\n",
       "      <td>fwd</td>\n",
       "      <td>front</td>\n",
       "      <td>105.8</td>\n",
       "      <td>192.7</td>\n",
       "      <td>71.4</td>\n",
       "      <td>55.7</td>\n",
       "      <td>...</td>\n",
       "      <td>five</td>\n",
       "      <td>136.0</td>\n",
       "      <td>mpfi</td>\n",
       "      <td>3.19</td>\n",
       "      <td>3.40</td>\n",
       "      <td>8.5</td>\n",
       "      <td>110.0</td>\n",
       "      <td>5500.0</td>\n",
       "      <td>19.0</td>\n",
       "      <td>25.0</td>\n",
       "    </tr>\n",
       "    <tr>\n",
       "      <td>1</td>\n",
       "      <td>gas</td>\n",
       "      <td>std</td>\n",
       "      <td>four</td>\n",
       "      <td>sedan</td>\n",
       "      <td>fwd</td>\n",
       "      <td>front</td>\n",
       "      <td>96.5</td>\n",
       "      <td>175.4</td>\n",
       "      <td>62.5</td>\n",
       "      <td>54.1</td>\n",
       "      <td>...</td>\n",
       "      <td>four</td>\n",
       "      <td>110.0</td>\n",
       "      <td>1bbl</td>\n",
       "      <td>3.15</td>\n",
       "      <td>3.58</td>\n",
       "      <td>9.0</td>\n",
       "      <td>86.0</td>\n",
       "      <td>NaN</td>\n",
       "      <td>27.0</td>\n",
       "      <td>33.0</td>\n",
       "    </tr>\n",
       "  </tbody>\n",
       "</table>\n",
       "<p>2 rows × 22 columns</p>\n",
       "</div>"
      ],
      "text/plain": [
       "  fueltype aspiration doornumber carbody drivewheel enginelocation  wheelbase  \\\n",
       "0      gas        std       four   wagon        fwd          front      105.8   \n",
       "1      gas        std       four   sedan        fwd          front       96.5   \n",
       "\n",
       "   carlength  carwidth  carheight  ...  cylindernumber enginesize fuelsystem  \\\n",
       "0      192.7      71.4       55.7  ...            five      136.0       mpfi   \n",
       "1      175.4      62.5       54.1  ...            four      110.0       1bbl   \n",
       "\n",
       "   boreratio stroke  compressionratio  horsepower  peakrpm  citympg  \\\n",
       "0       3.19   3.40               8.5       110.0   5500.0     19.0   \n",
       "1       3.15   3.58               9.0        86.0      NaN     27.0   \n",
       "\n",
       "   highwaympg  \n",
       "0        25.0  \n",
       "1        33.0  \n",
       "\n",
       "[2 rows x 22 columns]"
      ]
     },
     "execution_count": 23,
     "metadata": {},
     "output_type": "execute_result"
    }
   ],
   "source": [
    "test_x.head(2)"
   ]
  },
  {
   "cell_type": "code",
   "execution_count": 24,
   "metadata": {},
   "outputs": [
    {
     "data": {
      "text/html": [
       "<div>\n",
       "<style scoped>\n",
       "    .dataframe tbody tr th:only-of-type {\n",
       "        vertical-align: middle;\n",
       "    }\n",
       "\n",
       "    .dataframe tbody tr th {\n",
       "        vertical-align: top;\n",
       "    }\n",
       "\n",
       "    .dataframe thead th {\n",
       "        text-align: right;\n",
       "    }\n",
       "</style>\n",
       "<table border=\"1\" class=\"dataframe\">\n",
       "  <thead>\n",
       "    <tr style=\"text-align: right;\">\n",
       "      <th></th>\n",
       "      <th>price</th>\n",
       "    </tr>\n",
       "  </thead>\n",
       "  <tbody>\n",
       "    <tr>\n",
       "      <td>0</td>\n",
       "      <td>18920.0</td>\n",
       "    </tr>\n",
       "    <tr>\n",
       "      <td>1</td>\n",
       "      <td>10295.0</td>\n",
       "    </tr>\n",
       "  </tbody>\n",
       "</table>\n",
       "</div>"
      ],
      "text/plain": [
       "     price\n",
       "0  18920.0\n",
       "1  10295.0"
      ]
     },
     "execution_count": 24,
     "metadata": {},
     "output_type": "execute_result"
    }
   ],
   "source": [
    "test_y.head(2)"
   ]
  },
  {
   "cell_type": "code",
   "execution_count": 25,
   "metadata": {},
   "outputs": [],
   "source": [
    "nan_test_columns = test_data.columns[test_data.isna().any()].tolist() #finding the features (columns) that contain missing (NaN) values and then returning all of them in a list\n",
    "test_x = test_x.fillna(test_x.median()) #filling the missing values with the median value of the corresponding feature"
   ]
  },
  {
   "cell_type": "code",
   "execution_count": 26,
   "metadata": {},
   "outputs": [
    {
     "name": "stdout",
     "output_type": "stream",
     "text": [
      "['wheelbase', 'carlength', 'carwidth', 'carheight', 'curbweight', 'enginesize', 'stroke', 'compressionratio', 'horsepower', 'peakrpm', 'citympg', 'highwaympg']\n"
     ]
    }
   ],
   "source": [
    "print(nan_test_columns)"
   ]
  },
  {
   "cell_type": "code",
   "execution_count": 27,
   "metadata": {},
   "outputs": [
    {
     "data": {
      "text/html": [
       "<div>\n",
       "<style scoped>\n",
       "    .dataframe tbody tr th:only-of-type {\n",
       "        vertical-align: middle;\n",
       "    }\n",
       "\n",
       "    .dataframe tbody tr th {\n",
       "        vertical-align: top;\n",
       "    }\n",
       "\n",
       "    .dataframe thead th {\n",
       "        text-align: right;\n",
       "    }\n",
       "</style>\n",
       "<table border=\"1\" class=\"dataframe\">\n",
       "  <thead>\n",
       "    <tr style=\"text-align: right;\">\n",
       "      <th></th>\n",
       "      <th>fueltype</th>\n",
       "      <th>aspiration</th>\n",
       "      <th>doornumber</th>\n",
       "      <th>carbody</th>\n",
       "      <th>drivewheel</th>\n",
       "      <th>enginelocation</th>\n",
       "      <th>wheelbase</th>\n",
       "      <th>carlength</th>\n",
       "      <th>carwidth</th>\n",
       "      <th>carheight</th>\n",
       "      <th>...</th>\n",
       "      <th>cylindernumber</th>\n",
       "      <th>enginesize</th>\n",
       "      <th>fuelsystem</th>\n",
       "      <th>boreratio</th>\n",
       "      <th>stroke</th>\n",
       "      <th>compressionratio</th>\n",
       "      <th>horsepower</th>\n",
       "      <th>peakrpm</th>\n",
       "      <th>citympg</th>\n",
       "      <th>highwaympg</th>\n",
       "    </tr>\n",
       "  </thead>\n",
       "  <tbody>\n",
       "    <tr>\n",
       "      <td>0</td>\n",
       "      <td>gas</td>\n",
       "      <td>std</td>\n",
       "      <td>four</td>\n",
       "      <td>wagon</td>\n",
       "      <td>fwd</td>\n",
       "      <td>front</td>\n",
       "      <td>105.8</td>\n",
       "      <td>192.7</td>\n",
       "      <td>71.4</td>\n",
       "      <td>55.7</td>\n",
       "      <td>...</td>\n",
       "      <td>five</td>\n",
       "      <td>136.0</td>\n",
       "      <td>mpfi</td>\n",
       "      <td>3.19</td>\n",
       "      <td>3.40</td>\n",
       "      <td>8.5</td>\n",
       "      <td>110.0</td>\n",
       "      <td>5500.0</td>\n",
       "      <td>19.0</td>\n",
       "      <td>25.0</td>\n",
       "    </tr>\n",
       "    <tr>\n",
       "      <td>1</td>\n",
       "      <td>gas</td>\n",
       "      <td>std</td>\n",
       "      <td>four</td>\n",
       "      <td>sedan</td>\n",
       "      <td>fwd</td>\n",
       "      <td>front</td>\n",
       "      <td>96.5</td>\n",
       "      <td>175.4</td>\n",
       "      <td>62.5</td>\n",
       "      <td>54.1</td>\n",
       "      <td>...</td>\n",
       "      <td>four</td>\n",
       "      <td>110.0</td>\n",
       "      <td>1bbl</td>\n",
       "      <td>3.15</td>\n",
       "      <td>3.58</td>\n",
       "      <td>9.0</td>\n",
       "      <td>86.0</td>\n",
       "      <td>5050.0</td>\n",
       "      <td>27.0</td>\n",
       "      <td>33.0</td>\n",
       "    </tr>\n",
       "  </tbody>\n",
       "</table>\n",
       "<p>2 rows × 22 columns</p>\n",
       "</div>"
      ],
      "text/plain": [
       "  fueltype aspiration doornumber carbody drivewheel enginelocation  wheelbase  \\\n",
       "0      gas        std       four   wagon        fwd          front      105.8   \n",
       "1      gas        std       four   sedan        fwd          front       96.5   \n",
       "\n",
       "   carlength  carwidth  carheight  ...  cylindernumber enginesize fuelsystem  \\\n",
       "0      192.7      71.4       55.7  ...            five      136.0       mpfi   \n",
       "1      175.4      62.5       54.1  ...            four      110.0       1bbl   \n",
       "\n",
       "   boreratio stroke  compressionratio  horsepower  peakrpm  citympg  \\\n",
       "0       3.19   3.40               8.5       110.0   5500.0     19.0   \n",
       "1       3.15   3.58               9.0        86.0   5050.0     27.0   \n",
       "\n",
       "   highwaympg  \n",
       "0        25.0  \n",
       "1        33.0  \n",
       "\n",
       "[2 rows x 22 columns]"
      ]
     },
     "execution_count": 27,
     "metadata": {},
     "output_type": "execute_result"
    }
   ],
   "source": [
    "test_x.head(2)"
   ]
  },
  {
   "cell_type": "code",
   "execution_count": 28,
   "metadata": {},
   "outputs": [
    {
     "name": "stdout",
     "output_type": "stream",
     "text": [
      "['fueltype', 'aspiration', 'doornumber', 'carbody', 'drivewheel', 'enginelocation', 'enginetype', 'cylindernumber', 'fuelsystem']\n"
     ]
    }
   ],
   "source": [
    "categorical_test_columns = test_x.select_dtypes(include='object').columns.tolist() #finding all features (columns) that contain categorical values ('object') and storing their column names into list categorical_columns \n",
    "print(categorical_test_columns)"
   ]
  },
  {
   "cell_type": "code",
   "execution_count": 29,
   "metadata": {},
   "outputs": [
    {
     "data": {
      "text/html": [
       "<div>\n",
       "<style scoped>\n",
       "    .dataframe tbody tr th:only-of-type {\n",
       "        vertical-align: middle;\n",
       "    }\n",
       "\n",
       "    .dataframe tbody tr th {\n",
       "        vertical-align: top;\n",
       "    }\n",
       "\n",
       "    .dataframe thead th {\n",
       "        text-align: right;\n",
       "    }\n",
       "</style>\n",
       "<table border=\"1\" class=\"dataframe\">\n",
       "  <thead>\n",
       "    <tr style=\"text-align: right;\">\n",
       "      <th></th>\n",
       "      <th>wheelbase</th>\n",
       "      <th>carlength</th>\n",
       "      <th>carwidth</th>\n",
       "      <th>carheight</th>\n",
       "      <th>curbweight</th>\n",
       "      <th>enginesize</th>\n",
       "      <th>boreratio</th>\n",
       "      <th>stroke</th>\n",
       "      <th>compressionratio</th>\n",
       "      <th>horsepower</th>\n",
       "      <th>...</th>\n",
       "      <th>cylindernumber_three</th>\n",
       "      <th>cylindernumber_twelve</th>\n",
       "      <th>cylindernumber_two</th>\n",
       "      <th>fuelsystem_1bbl</th>\n",
       "      <th>fuelsystem_2bbl</th>\n",
       "      <th>fuelsystem_4bbl</th>\n",
       "      <th>fuelsystem_idi</th>\n",
       "      <th>fuelsystem_mfi</th>\n",
       "      <th>fuelsystem_mpfi</th>\n",
       "      <th>fuelsystem_spdi</th>\n",
       "    </tr>\n",
       "  </thead>\n",
       "  <tbody>\n",
       "    <tr>\n",
       "      <td>0</td>\n",
       "      <td>105.8</td>\n",
       "      <td>192.7</td>\n",
       "      <td>71.4</td>\n",
       "      <td>55.7</td>\n",
       "      <td>2954.0</td>\n",
       "      <td>136.0</td>\n",
       "      <td>3.19</td>\n",
       "      <td>3.40</td>\n",
       "      <td>8.5</td>\n",
       "      <td>110.0</td>\n",
       "      <td>...</td>\n",
       "      <td>0</td>\n",
       "      <td>0</td>\n",
       "      <td>0</td>\n",
       "      <td>0</td>\n",
       "      <td>0</td>\n",
       "      <td>0</td>\n",
       "      <td>0</td>\n",
       "      <td>0</td>\n",
       "      <td>1</td>\n",
       "      <td>0</td>\n",
       "    </tr>\n",
       "    <tr>\n",
       "      <td>1</td>\n",
       "      <td>96.5</td>\n",
       "      <td>175.4</td>\n",
       "      <td>62.5</td>\n",
       "      <td>54.1</td>\n",
       "      <td>2372.0</td>\n",
       "      <td>110.0</td>\n",
       "      <td>3.15</td>\n",
       "      <td>3.58</td>\n",
       "      <td>9.0</td>\n",
       "      <td>86.0</td>\n",
       "      <td>...</td>\n",
       "      <td>0</td>\n",
       "      <td>0</td>\n",
       "      <td>0</td>\n",
       "      <td>1</td>\n",
       "      <td>0</td>\n",
       "      <td>0</td>\n",
       "      <td>0</td>\n",
       "      <td>0</td>\n",
       "      <td>0</td>\n",
       "      <td>0</td>\n",
       "    </tr>\n",
       "  </tbody>\n",
       "</table>\n",
       "<p>2 rows × 49 columns</p>\n",
       "</div>"
      ],
      "text/plain": [
       "   wheelbase  carlength  carwidth  carheight  curbweight  enginesize  \\\n",
       "0      105.8      192.7      71.4       55.7      2954.0       136.0   \n",
       "1       96.5      175.4      62.5       54.1      2372.0       110.0   \n",
       "\n",
       "   boreratio  stroke  compressionratio  horsepower  ...  cylindernumber_three  \\\n",
       "0       3.19    3.40               8.5       110.0  ...                     0   \n",
       "1       3.15    3.58               9.0        86.0  ...                     0   \n",
       "\n",
       "   cylindernumber_twelve  cylindernumber_two  fuelsystem_1bbl  \\\n",
       "0                      0                   0                0   \n",
       "1                      0                   0                1   \n",
       "\n",
       "   fuelsystem_2bbl  fuelsystem_4bbl  fuelsystem_idi  fuelsystem_mfi  \\\n",
       "0                0                0               0               0   \n",
       "1                0                0               0               0   \n",
       "\n",
       "   fuelsystem_mpfi  fuelsystem_spdi  \n",
       "0                1                0  \n",
       "1                0                0  \n",
       "\n",
       "[2 rows x 49 columns]"
      ]
     },
     "execution_count": 29,
     "metadata": {},
     "output_type": "execute_result"
    }
   ],
   "source": [
    "test_x = pd.get_dummies(test_x,columns=categorical_test_columns) #modifying test_x by replacing categorical columns with their one-hot encoding representations\n",
    "test_x.head(2)"
   ]
  },
  {
   "cell_type": "code",
   "execution_count": 30,
   "metadata": {},
   "outputs": [
    {
     "data": {
      "text/html": [
       "<div>\n",
       "<style scoped>\n",
       "    .dataframe tbody tr th:only-of-type {\n",
       "        vertical-align: middle;\n",
       "    }\n",
       "\n",
       "    .dataframe tbody tr th {\n",
       "        vertical-align: top;\n",
       "    }\n",
       "\n",
       "    .dataframe thead th {\n",
       "        text-align: right;\n",
       "    }\n",
       "</style>\n",
       "<table border=\"1\" class=\"dataframe\">\n",
       "  <thead>\n",
       "    <tr style=\"text-align: right;\">\n",
       "      <th></th>\n",
       "      <th>wheelbase</th>\n",
       "      <th>carlength</th>\n",
       "      <th>carwidth</th>\n",
       "      <th>carheight</th>\n",
       "      <th>curbweight</th>\n",
       "      <th>enginesize</th>\n",
       "      <th>boreratio</th>\n",
       "      <th>stroke</th>\n",
       "      <th>compressionratio</th>\n",
       "      <th>horsepower</th>\n",
       "      <th>...</th>\n",
       "      <th>cylindernumber_three</th>\n",
       "      <th>cylindernumber_twelve</th>\n",
       "      <th>cylindernumber_two</th>\n",
       "      <th>fuelsystem_1bbl</th>\n",
       "      <th>fuelsystem_2bbl</th>\n",
       "      <th>fuelsystem_4bbl</th>\n",
       "      <th>fuelsystem_idi</th>\n",
       "      <th>fuelsystem_mfi</th>\n",
       "      <th>fuelsystem_mpfi</th>\n",
       "      <th>fuelsystem_spdi</th>\n",
       "    </tr>\n",
       "  </thead>\n",
       "  <tbody>\n",
       "    <tr>\n",
       "      <td>0</td>\n",
       "      <td>1.311385</td>\n",
       "      <td>1.529613</td>\n",
       "      <td>2.799691</td>\n",
       "      <td>0.882498</td>\n",
       "      <td>0.874873</td>\n",
       "      <td>0.301750</td>\n",
       "      <td>-0.471250</td>\n",
       "      <td>0.473955</td>\n",
       "      <td>-0.384726</td>\n",
       "      <td>0.204338</td>\n",
       "      <td>...</td>\n",
       "      <td>-0.080582</td>\n",
       "      <td>-0.080582</td>\n",
       "      <td>-0.114332</td>\n",
       "      <td>-0.248282</td>\n",
       "      <td>-0.720838</td>\n",
       "      <td>-0.114332</td>\n",
       "      <td>-0.315104</td>\n",
       "      <td>-0.080582</td>\n",
       "      <td>1.146051</td>\n",
       "      <td>-0.248282</td>\n",
       "    </tr>\n",
       "    <tr>\n",
       "      <td>1</td>\n",
       "      <td>-0.368190</td>\n",
       "      <td>0.148909</td>\n",
       "      <td>-1.654180</td>\n",
       "      <td>0.175359</td>\n",
       "      <td>-0.278810</td>\n",
       "      <td>-0.352393</td>\n",
       "      <td>-0.628165</td>\n",
       "      <td>1.029791</td>\n",
       "      <td>-0.250249</td>\n",
       "      <td>-0.447582</td>\n",
       "      <td>...</td>\n",
       "      <td>-0.080582</td>\n",
       "      <td>-0.080582</td>\n",
       "      <td>-0.114332</td>\n",
       "      <td>4.027682</td>\n",
       "      <td>-0.720838</td>\n",
       "      <td>-0.114332</td>\n",
       "      <td>-0.315104</td>\n",
       "      <td>-0.080582</td>\n",
       "      <td>-0.872562</td>\n",
       "      <td>-0.248282</td>\n",
       "    </tr>\n",
       "  </tbody>\n",
       "</table>\n",
       "<p>2 rows × 49 columns</p>\n",
       "</div>"
      ],
      "text/plain": [
       "   wheelbase  carlength  carwidth  carheight  curbweight  enginesize  \\\n",
       "0   1.311385   1.529613  2.799691   0.882498    0.874873    0.301750   \n",
       "1  -0.368190   0.148909 -1.654180   0.175359   -0.278810   -0.352393   \n",
       "\n",
       "   boreratio    stroke  compressionratio  horsepower  ...  \\\n",
       "0  -0.471250  0.473955         -0.384726    0.204338  ...   \n",
       "1  -0.628165  1.029791         -0.250249   -0.447582  ...   \n",
       "\n",
       "   cylindernumber_three  cylindernumber_twelve  cylindernumber_two  \\\n",
       "0             -0.080582              -0.080582           -0.114332   \n",
       "1             -0.080582              -0.080582           -0.114332   \n",
       "\n",
       "   fuelsystem_1bbl  fuelsystem_2bbl  fuelsystem_4bbl  fuelsystem_idi  \\\n",
       "0        -0.248282        -0.720838        -0.114332       -0.315104   \n",
       "1         4.027682        -0.720838        -0.114332       -0.315104   \n",
       "\n",
       "   fuelsystem_mfi  fuelsystem_mpfi  fuelsystem_spdi  \n",
       "0       -0.080582         1.146051        -0.248282  \n",
       "1       -0.080582        -0.872562        -0.248282  \n",
       "\n",
       "[2 rows x 49 columns]"
      ]
     },
     "execution_count": 30,
     "metadata": {},
     "output_type": "execute_result"
    }
   ],
   "source": [
    "#scaling all columns in test_x with standardization \n",
    "test_scaler = scaler.transform(test_x)\n",
    "test_x = pd.DataFrame(data=test_scaler,index=test_x.index,columns=test_x.columns)\n",
    "test_x.head(2)"
   ]
  },
  {
   "cell_type": "markdown",
   "metadata": {},
   "source": [
    "### part l"
   ]
  },
  {
   "cell_type": "code",
   "execution_count": 31,
   "metadata": {},
   "outputs": [],
   "source": [
    "predicted_values = lr_model.predict(test_x) #predicting the prices of cars in test_x data using LR model that I created in part (i) "
   ]
  },
  {
   "cell_type": "code",
   "execution_count": 32,
   "metadata": {},
   "outputs": [
    {
     "name": "stdout",
     "output_type": "stream",
     "text": [
      "[[25820.17373261]\n",
      " [15266.75224294]\n",
      " [ 7061.79177366]]\n"
     ]
    }
   ],
   "source": [
    "print(predicted_values[10:13])"
   ]
  },
  {
   "cell_type": "code",
   "execution_count": 33,
   "metadata": {},
   "outputs": [
    {
     "name": "stdout",
     "output_type": "stream",
     "text": [
      "15145368.208050106\n"
     ]
    }
   ],
   "source": [
    "test_mse_score = mean_squared_error(test_y, predicted_values)\n",
    "print(test_mse_score) #test set MSE"
   ]
  },
  {
   "cell_type": "code",
   "execution_count": 34,
   "metadata": {},
   "outputs": [
    {
     "name": "stdout",
     "output_type": "stream",
     "text": [
      "[[ -182.50390789    17.77791293   482.81638969   104.58617988\n",
      "   1594.18156825  4256.71313249   -38.99302906 -1321.89317472\n",
      "    384.75573887  1307.10308185   517.30038623  -656.6777968\n",
      "    909.82948041    63.44882098   -63.44882098  -345.01712899\n",
      "    345.01712899   -79.19764443    79.19764443   309.15477368\n",
      "     41.94235625  -351.57058775   212.54573996    26.44248644\n",
      "   -100.41702336   -55.47707253   101.51605056  -267.79355313\n",
      "    267.79355313  -371.41920837  -187.39716713  1176.64256697\n",
      "    -84.87719409 -1725.97024765   176.79676558  1597.61307444\n",
      "   -137.55006193  -995.94531305   567.19331492   431.12406866\n",
      "   -315.88166818   176.79676558   130.33179437   -60.94295514\n",
      "    176.79676558    63.44882098  -119.02206221   183.04212938\n",
      "   -516.78989561]]\n"
     ]
    }
   ],
   "source": [
    "print(lr_model.coef_) #model’s coefficients"
   ]
  },
  {
   "cell_type": "markdown",
   "metadata": {},
   "source": [
    "### part m"
   ]
  },
  {
   "cell_type": "code",
   "execution_count": 35,
   "metadata": {},
   "outputs": [],
   "source": [
    "from sklearn.preprocessing import PolynomialFeatures\n",
    "\n",
    "poly_features = PolynomialFeatures(degree=2, include_bias=False)\n",
    "#running a polynomial transformation with degree 2 on train_x_e\n",
    "train_x_m = pd.DataFrame(poly_features.fit_transform(train_x_e))"
   ]
  },
  {
   "cell_type": "code",
   "execution_count": 36,
   "metadata": {},
   "outputs": [
    {
     "data": {
      "text/html": [
       "<div>\n",
       "<style scoped>\n",
       "    .dataframe tbody tr th:only-of-type {\n",
       "        vertical-align: middle;\n",
       "    }\n",
       "\n",
       "    .dataframe tbody tr th {\n",
       "        vertical-align: top;\n",
       "    }\n",
       "\n",
       "    .dataframe thead th {\n",
       "        text-align: right;\n",
       "    }\n",
       "</style>\n",
       "<table border=\"1\" class=\"dataframe\">\n",
       "  <thead>\n",
       "    <tr style=\"text-align: right;\">\n",
       "      <th></th>\n",
       "      <th>0</th>\n",
       "      <th>1</th>\n",
       "      <th>2</th>\n",
       "      <th>3</th>\n",
       "      <th>4</th>\n",
       "      <th>5</th>\n",
       "      <th>6</th>\n",
       "      <th>7</th>\n",
       "      <th>8</th>\n",
       "      <th>9</th>\n",
       "      <th>...</th>\n",
       "      <th>1264</th>\n",
       "      <th>1265</th>\n",
       "      <th>1266</th>\n",
       "      <th>1267</th>\n",
       "      <th>1268</th>\n",
       "      <th>1269</th>\n",
       "      <th>1270</th>\n",
       "      <th>1271</th>\n",
       "      <th>1272</th>\n",
       "      <th>1273</th>\n",
       "    </tr>\n",
       "  </thead>\n",
       "  <tbody>\n",
       "    <tr>\n",
       "      <td>0</td>\n",
       "      <td>1.040486</td>\n",
       "      <td>1.218356</td>\n",
       "      <td>0.697865</td>\n",
       "      <td>1.103479</td>\n",
       "      <td>-0.217359</td>\n",
       "      <td>0.427546</td>\n",
       "      <td>-0.000506</td>\n",
       "      <td>-0.298040</td>\n",
       "      <td>-0.115772</td>\n",
       "      <td>0.312992</td>\n",
       "      <td>...</td>\n",
       "      <td>0.099291</td>\n",
       "      <td>0.025392</td>\n",
       "      <td>-0.361126</td>\n",
       "      <td>0.078235</td>\n",
       "      <td>0.006494</td>\n",
       "      <td>-0.092351</td>\n",
       "      <td>0.020007</td>\n",
       "      <td>1.313433</td>\n",
       "      <td>-0.284544</td>\n",
       "      <td>0.061644</td>\n",
       "    </tr>\n",
       "    <tr>\n",
       "      <td>1</td>\n",
       "      <td>-0.729389</td>\n",
       "      <td>-0.266100</td>\n",
       "      <td>-1.003614</td>\n",
       "      <td>-0.089818</td>\n",
       "      <td>-0.968641</td>\n",
       "      <td>-0.679464</td>\n",
       "      <td>-0.628165</td>\n",
       "      <td>0.134277</td>\n",
       "      <td>-0.142667</td>\n",
       "      <td>-0.909358</td>\n",
       "      <td>...</td>\n",
       "      <td>0.099291</td>\n",
       "      <td>0.025392</td>\n",
       "      <td>0.274948</td>\n",
       "      <td>0.078235</td>\n",
       "      <td>0.006494</td>\n",
       "      <td>0.070313</td>\n",
       "      <td>0.020007</td>\n",
       "      <td>0.761364</td>\n",
       "      <td>0.216641</td>\n",
       "      <td>0.061644</td>\n",
       "    </tr>\n",
       "  </tbody>\n",
       "</table>\n",
       "<p>2 rows × 1274 columns</p>\n",
       "</div>"
      ],
      "text/plain": [
       "       0         1         2         3         4         5         6     \\\n",
       "0  1.040486  1.218356  0.697865  1.103479 -0.217359  0.427546 -0.000506   \n",
       "1 -0.729389 -0.266100 -1.003614 -0.089818 -0.968641 -0.679464 -0.628165   \n",
       "\n",
       "       7         8         9     ...      1264      1265      1266      1267  \\\n",
       "0 -0.298040 -0.115772  0.312992  ...  0.099291  0.025392 -0.361126  0.078235   \n",
       "1  0.134277 -0.142667 -0.909358  ...  0.099291  0.025392  0.274948  0.078235   \n",
       "\n",
       "       1268      1269      1270      1271      1272      1273  \n",
       "0  0.006494 -0.092351  0.020007  1.313433 -0.284544  0.061644  \n",
       "1  0.006494  0.070313  0.020007  0.761364  0.216641  0.061644  \n",
       "\n",
       "[2 rows x 1274 columns]"
      ]
     },
     "execution_count": 36,
     "metadata": {},
     "output_type": "execute_result"
    }
   ],
   "source": [
    "train_x_m.head(2)"
   ]
  },
  {
   "cell_type": "code",
   "execution_count": 37,
   "metadata": {},
   "outputs": [
    {
     "data": {
      "text/plain": [
       "array([2.27664648e+07, 1.24109461e+30, 4.41019508e+31, 4.81876014e+31,\n",
       "       1.24872858e+31])"
      ]
     },
     "execution_count": 37,
     "metadata": {},
     "output_type": "execute_result"
    }
   ],
   "source": [
    "lr_model_poly  = LinearRegression() #creating LR for polynomial\n",
    "lr_model_poly.fit(train_x_m, train_y)\n",
    "polynomial_feature_scores = -(cross_val_score(lr_model_poly,train_x_m,train_y,scoring = \"neg_mean_squared_error\", cv=5)) #5-fold cross validation using train_x_m and train_y\n",
    "polynomial_feature_scores"
   ]
  },
  {
   "cell_type": "code",
   "execution_count": 38,
   "metadata": {},
   "outputs": [
    {
     "name": "stdout",
     "output_type": "stream",
     "text": [
      "2.12035865223076e+31\n"
     ]
    }
   ],
   "source": [
    "average_mse = polynomial_feature_scores.mean() #MSE of polynomial scores\n",
    "print(average_mse)"
   ]
  },
  {
   "cell_type": "markdown",
   "metadata": {},
   "source": [
    "### part n"
   ]
  },
  {
   "cell_type": "code",
   "execution_count": 39,
   "metadata": {},
   "outputs": [],
   "source": [
    "from sklearn.linear_model import Lasso\n",
    "lasso = Lasso() #created lasso regression\n",
    "lasso.fit(train_x_m,train_y)\n",
    "CrossVAl_Lasso = -(cross_val_score(lasso, train_x_m,train_y,scoring = \"neg_mean_squared_error\", cv=5))"
   ]
  },
  {
   "cell_type": "code",
   "execution_count": 40,
   "metadata": {},
   "outputs": [
    {
     "name": "stdout",
     "output_type": "stream",
     "text": [
      "36528621.24537851\n"
     ]
    }
   ],
   "source": [
    "average_mse = CrossVAl_Lasso.mean() #lasso mean result\n",
    "print(average_mse)"
   ]
  },
  {
   "cell_type": "markdown",
   "metadata": {},
   "source": [
    "### part o"
   ]
  },
  {
   "cell_type": "code",
   "execution_count": 41,
   "metadata": {},
   "outputs": [
    {
     "name": "stdout",
     "output_type": "stream",
     "text": [
      "[36528621.24537851, 11307771.59089457, 11110976.420398653, 11588897.233806243, 12051970.702692326, 12388076.799739098, 11982234.680053437, 11720009.499411335, 11709891.93925814, 11919856.415190604, 11869743.797021855, 11787607.540306604, 11650066.575539857, 11507004.254307043, 11279757.878626872, 10917653.440356353, 10577784.838279963, 10311837.225586083, 10158428.873887556, 9994548.453799006, 9914937.30524186, 9843656.170003075, 9788981.15385222, 9763659.890244896, 9735216.695349593, 9718791.884552445, 9704091.88580652, 9764437.509938313, 9866185.245833572, 9950278.735505799, 10018971.683013126, 10043338.46662253, 10076987.877078768, 10067878.211191896, 10056678.967408676, 10045502.768664291, 10031765.870361682, 10025464.093035895, 10015246.137989331, 10004050.213355264, 9988334.506706158, 9977538.570726339, 9974835.969121613, 9987881.318608077, 10003243.816563997, 10019701.984897686, 10033601.761054793, 10044829.355244847, 10061754.73314548, 10085786.954439864, 10135769.29510681, 10189135.506224442, 10242401.846735355, 10295504.586927073, 10347604.915453989, 10399833.062772248, 10456107.348785462, 10510557.57630387, 10558635.462095838, 10605024.24390058, 10651605.365838444, 10704367.626727609, 10771411.050199386, 10841234.734505733, 10901201.369503766, 10952044.991316926, 11004483.914057093, 11049021.53391124, 11083565.716418577, 11112799.624246527, 11132466.091871329, 11150992.809526209, 11166163.352263596, 11179234.075387474, 11197128.70353501, 11217733.12287929, 11241882.572012207, 11264894.952216674, 11289701.21368101, 11315750.946307072, 11343505.46666996, 11373066.835552737, 11404444.55338164, 11437707.576485489, 11472422.805358255, 11508697.72110061, 11545793.351234404, 11586109.405762322, 11634473.747319872, 11683846.837384462, 11734598.868427064, 11784500.243053978, 11834559.461190231, 11886084.656395292, 11938576.145778898, 11992386.252518686, 12047664.798866015, 12101202.979176752, 12147363.571534563, 12194646.2527689, 12245396.506433053, 12304040.706830299, 12363934.098727118, 12425102.898675011, 12487806.729407704, 12553478.768555801, 12620466.109826889, 12688778.338921433, 12757815.144212794, 12827199.13254286, 12896346.65776751, 12966440.589828813, 13037582.218593951, 13109735.35231068, 13179150.657298967, 13243423.946220728, 13308785.717794906, 13375464.018765252, 13443073.375234762, 13511199.575319793, 13579773.770887319, 13639232.887399286, 13699503.421236297, 13760608.318363374, 13822492.084032208, 13885936.289351244, 13950183.976580143, 14015358.950051825, 14081302.047285268, 14148109.074610706, 14215589.590576747, 14274752.002497727, 14332069.860013342, 14385245.446490476, 14437928.63899172, 14492713.676863108, 14547984.515934175, 14603776.493977617, 14659919.303390536, 14717099.765035272, 14775027.963204676, 14833535.502168495, 14892577.442956096, 14952178.712444538, 15012573.208236676, 15073718.499162894, 15135465.71959887, 15197824.547948781, 15260313.56921297, 15318399.220097784, 15376778.267982598, 15435958.395336762, 15495642.555725614, 15555886.43479071, 15616661.333497742, 15677894.083851214, 15739865.513580654, 15802761.67797121, 15866794.46473078, 15931490.378808564, 15997265.01155364, 16060772.75224638, 16125058.69178937, 16190214.180978965, 16257119.642152797, 16325805.248479346, 16395610.532891119, 16465824.730088785, 16535220.965468902, 16604833.884058569, 16674693.675926467, 16746382.81641232, 16818526.44396151, 16889196.338832166, 16960295.17985512, 17031902.290105574, 17104021.39479067, 17176638.6585563, 17249110.719228473, 17321318.95268733, 17394031.37587992, 17467247.781741135, 17540921.930111073, 17616443.477172896, 17690649.530124746, 17764558.75234271, 17839788.04014333, 17915592.44655543, 17992034.78227427, 18068905.064171895, 18142704.28924961, 18215921.022791237, 18289655.078189563, 18364141.243439592, 18439405.854327403, 18515329.21379582, 18591855.046409316, 18668838.17654725, 18746267.740562186, 18824248.563388653, 18901581.84006647, 18979339.5389271, 19056914.99235449, 19134868.879142784, 19213278.585835166, 19292171.435137723, 19371531.86952902, 19451331.608017568, 19531652.137162387, 19612635.173154607, 19693869.534445334, 19775570.06626095, 19857736.42020299, 19940434.176803414, 20023535.30323326, 20107103.40540781, 20189062.975563817, 20267591.623485677, 20346774.113266747, 20426256.365125038, 20506144.17425239, 20586443.068646688, 20667156.859793205, 20748286.481580205, 20829903.695368446, 20911868.514578138, 20994250.61216355, 21077031.187916216, 21160247.901834138, 21243922.196471535, 21328049.491734374, 21412523.261580795, 21497650.312930603, 21582961.4145805, 21668690.93841092, 21754839.48254442, 21841482.50994091, 21928470.307468027, 22015859.987658285, 22103671.709676992, 22191934.401321094, 22280588.762853544, 22369777.12849374, 22459314.699888222, 22549484.785696257, 22640147.61451139, 22732919.606112607, 22826219.371512808, 22920163.51800743, 23014421.766293656, 23109141.078423932, 23204413.967083454, 23300057.89596065, 23396145.78040985, 23492893.62843202, 23587501.715291105, 23682659.049341362, 23778170.668813057, 23874132.569619715, 23970616.23125282, 24067476.4820271, 24164786.30615907, 24262545.2958759, 24360941.562685467, 24459657.885228626, 24558763.615967337, 24658317.37659813, 24758432.574848134, 24858887.669297844, 24959861.0739439, 25061214.2113082, 25163191.470618777, 25265442.76218105, 25368142.099099852, 25471363.761871755, 25574962.309593778, 25679010.316596843, 25783506.949968427, 25888613.199663393, 25994073.21845834, 26099917.673668213, 26206210.667130195, 26312952.23971343, 26420142.24709273, 26527832.712116648, 26635920.70078588, 26744457.191668116, 26853443.594205104, 26963067.89250073, 27072953.975820802, 27183326.02149086, 27294167.33976556, 27405459.697121836, 27517203.332410038, 27629399.78406962, 27742045.61798525, 27855143.33512149, 27968691.949198496, 28082691.579241037, 28197142.420340084]\n"
     ]
    }
   ],
   "source": [
    "all_scores = []\n",
    "all_alphas = []\n",
    "#calculating and storing all 5-fold CV MSE scores for alpha values between 1 and 3000 with a step size of 10 in the following loop\n",
    "for i in range(1, 3000, 10): #in each iteration the alpha is setted to a different number the aim is to find to  optimum alpha which gives us the lowest error\n",
    "    regLasso = Lasso(alpha = i) #created Lasso regression model wit alpha=i\n",
    "    cross_lasso = cross_val_score(regLasso, train_x_m, train_y,scoring=\"neg_mean_squared_error\", cv=5) #5-fold CV MSE scores \n",
    "    cross_lasso = -(cross_lasso) #taking absolute\n",
    "    scores_mean = cross_lasso.mean() #taking mean of mse scores\n",
    "    all_alphas.append(i) #all_alphas\n",
    "    all_scores.append(scores_mean) \n",
    "\n",
    "minerror = min(all_scores)\n",
    "m_i = all_scores.index(minerror)\n",
    "mini_alpha = all_alphas[m_i]\n",
    "\n",
    "min_error = min(all_scores)\n",
    "min_index = all_scores.index(min_error)\n",
    "min_alpha = all_alphas[min_index]\n",
    "print(all_scores)"
   ]
  },
  {
   "cell_type": "code",
   "execution_count": 42,
   "metadata": {
    "ExecuteTime": {
     "end_time": "2019-11-03T19:40:23.083729Z",
     "start_time": "2019-11-03T19:40:23.046853Z"
    }
   },
   "outputs": [
    {
     "data": {
      "image/png": "[encoded data removed]",
      "text/plain": [
       "<Figure size 432x288 with 1 Axes>"
      ]
     },
     "metadata": {
      "needs_background": "light"
     },
     "output_type": "display_data"
    }
   ],
   "source": [
    "import matplotlib.pyplot as plt\n",
    "\n",
    "plt.plot(all_alphas,all_scores) #plotting alphas vs error scores in order to see the optimal alpha and its respective error.\n",
    "plt.show()"
   ]
  },
  {
   "cell_type": "code",
   "execution_count": 43,
   "metadata": {},
   "outputs": [
    {
     "name": "stdout",
     "output_type": "stream",
     "text": [
      "Minimum error was 9704091.89 at alpha 261\n"
     ]
    }
   ],
   "source": [
    "print(f\"Minimum error was {round(min_error, 2)} at alpha {min_alpha}\")"
   ]
  },
  {
   "cell_type": "markdown",
   "metadata": {},
   "source": [
    "### part p"
   ]
  },
  {
   "cell_type": "code",
   "execution_count": 44,
   "metadata": {},
   "outputs": [
    {
     "data": {
      "text/plain": [
       "GridSearchCV(cv=5, error_score='raise-deprecating',\n",
       "             estimator=SVR(C=1.0, cache_size=200, coef0=0.0, degree=3,\n",
       "                           epsilon=0.1, gamma='auto_deprecated', kernel='rbf',\n",
       "                           max_iter=-1, shrinking=True, tol=0.001,\n",
       "                           verbose=False),\n",
       "             iid='warn', n_jobs=None,\n",
       "             param_grid=[{'C': [10.0, 30.0, 100.0, 300.0, 1000.0, 3000.0,\n",
       "                                10000.0, 30000.0],\n",
       "                          'kernel': ['linear']},\n",
       "                         {'C': [1.0, 3.0, 10.0, 30.0, 100.0, 300.0, 1000.0,\n",
       "                                3000.0],\n",
       "                          'gamma': [0.01, 0.03, 0.1, 0.3, 1.0, 3.0],\n",
       "                          'kernel': ['rbf']}],\n",
       "             pre_dispatch='2*n_jobs', refit=True, return_train_score=True,\n",
       "             scoring='neg_mean_squared_error', verbose=0)"
      ]
     },
     "execution_count": 44,
     "metadata": {},
     "output_type": "execute_result"
    }
   ],
   "source": [
    "from sklearn.svm import SVR\n",
    "from sklearn.model_selection import GridSearchCV\n",
    "\n",
    "reg_SVM = SVR() #here created a support vector regression since Linear regression was not good enough and decided to use SVMs\n",
    "#in the grid_param the search parameters are included\n",
    "grid_param = [\n",
    "    {'kernel' : ['linear'], 'C': [10.0, 30.0, 100.0, 300.0, 1000.0, 3000.0, 10000.0, 30000.0]},\n",
    "    {'kernel' : ['rbf'], 'C': [1.0, 3.0, 10.0, 30.0, 100.0, 300.0, 1000.0, 3000.0], 'gamma':[0.01, 0.03, 0.1, 0.3, 1.0, 3.0]}\n",
    "  ]\n",
    "#grid search to find the best set of parameters to use\n",
    "grid_search = GridSearchCV(reg_SVM, grid_param, cv=5,scoring='neg_mean_squared_error', return_train_score=True) #search part\n",
    "grid_search.fit(train_x_e, train_y) #best model parameters found, we fit and transform our train and target datasets"
   ]
  },
  {
   "cell_type": "code",
   "execution_count": 45,
   "metadata": {},
   "outputs": [],
   "source": [
    "best_mse = -(grid_search.best_score_) #best grid score we get\n",
    "best_parameters = grid_search.best_params_ #best grid parameters"
   ]
  },
  {
   "cell_type": "code",
   "execution_count": 46,
   "metadata": {},
   "outputs": [
    {
     "data": {
      "text/plain": [
       "9849741.463692755"
      ]
     },
     "execution_count": 46,
     "metadata": {},
     "output_type": "execute_result"
    }
   ],
   "source": [
    "best_mse"
   ]
  },
  {
   "cell_type": "code",
   "execution_count": 47,
   "metadata": {},
   "outputs": [
    {
     "data": {
      "text/plain": [
       "{'C': 3000.0, 'kernel': 'linear'}"
      ]
     },
     "execution_count": 47,
     "metadata": {},
     "output_type": "execute_result"
    }
   ],
   "source": [
    "best_parameters"
   ]
  }
 ],
 "metadata": {
  "kernelspec": {
   "display_name": "Python 3",
   "language": "python",
   "name": "python3"
  },
  "language_info": {
   "codemirror_mode": {
    "name": "ipython",
    "version": 3
   },
   "file_extension": ".py",
   "mimetype": "text/x-python",
   "name": "python",
   "nbconvert_exporter": "python",
   "pygments_lexer": "ipython3",
   "version": "3.6.0"
  },
  "toc": {
   "base_numbering": 1,
   "nav_menu": {},
   "number_sections": true,
   "sideBar": true,
   "skip_h1_title": false,
   "title_cell": "Table of Contents",
   "title_sidebar": "Contents",
   "toc_cell": false,
   "toc_position": {},
   "toc_section_display": true,
   "toc_window_display": false
  }
 },
 "nbformat": 4,
 "nbformat_minor": 2
}
